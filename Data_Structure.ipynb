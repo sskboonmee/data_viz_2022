{
  "nbformat": 4,
  "nbformat_minor": 0,
  "metadata": {
    "colab": {
      "name": "Data Structure.ipynb",
      "provenance": [],
      "authorship_tag": "ABX9TyOQj9O2D9Ft7q0PkaXcQHtv",
      "include_colab_link": true
    },
    "kernelspec": {
      "name": "python3",
      "display_name": "Python 3"
    },
    "language_info": {
      "name": "python"
    }
  },
  "cells": [
    {
      "cell_type": "markdown",
      "metadata": {
        "id": "view-in-github",
        "colab_type": "text"
      },
      "source": [
        "<a href=\"https://colab.research.google.com/github/sskboonmee/data_viz_2022/blob/main/Data_Structure.ipynb\" target=\"_parent\"><img src=\"https://colab.research.google.com/assets/colab-badge.svg\" alt=\"Open In Colab\"/></a>"
      ]
    },
    {
      "cell_type": "markdown",
      "source": [
        "# Data Structure โครงสร้างข้อมูล\n",
        "การเก็บข้อมูลหลายๆตัวไว้ด้วยกันอย่างเป็นระเบียบ"
      ],
      "metadata": {
        "id": "iznHiUkn6fu3"
      }
    },
    {
      "cell_type": "markdown",
      "source": [
        "## list()\n",
        "ตัวเก็บข้อมูลแบบง่ายที่สุดโยสามารถ\n",
        "\n",
        "\n",
        "* เก็บอะไรก็ได้\n",
        "* ลำดับของการเก็บมีความสำคัญ\n",
        "\n",
        "\n"
      ],
      "metadata": {
        "id": "dggbM6ak6paO"
      }
    },
    {
      "cell_type": "code",
      "source": [
        "list_a = [1,2,3,4,5,6] # [ ]  square brackets"
      ],
      "metadata": {
        "id": "C_5HlWAN6gOm"
      },
      "execution_count": 1,
      "outputs": []
    },
    {
      "cell_type": "code",
      "execution_count": 2,
      "metadata": {
        "colab": {
          "base_uri": "https://localhost:8080/"
        },
        "id": "6ndUeLny4rbj",
        "outputId": "fd5a30e3-23d6-4c4c-b366-e647ec1dca1c"
      },
      "outputs": [
        {
          "output_type": "execute_result",
          "data": {
            "text/plain": [
              "[1, 2, 3, 4, 5, 6]"
            ]
          },
          "metadata": {},
          "execution_count": 2
        }
      ],
      "source": [
        "list_a"
      ]
    },
    {
      "cell_type": "code",
      "source": [
        "list_b = ['ab',2,3.14,list_a]"
      ],
      "metadata": {
        "id": "L93aLvGJ6-yg"
      },
      "execution_count": 7,
      "outputs": []
    },
    {
      "cell_type": "code",
      "source": [
        "list_b"
      ],
      "metadata": {
        "colab": {
          "base_uri": "https://localhost:8080/"
        },
        "id": "vR_ee-cu7kEJ",
        "outputId": "29f84c41-dab8-4ae9-9d5c-ce1430d2790d"
      },
      "execution_count": 8,
      "outputs": [
        {
          "output_type": "execute_result",
          "data": {
            "text/plain": [
              "['ab', 2, 3.14, [1, 2, 3, 4, 5, 6]]"
            ]
          },
          "metadata": {},
          "execution_count": 8
        }
      ]
    },
    {
      "cell_type": "markdown",
      "source": [
        "### indexing การชี้สมาชิกใน list ด้วยเลขลำดับของ list"
      ],
      "metadata": {
        "id": "mmezxfV58Rc3"
      }
    },
    {
      "cell_type": "code",
      "source": [
        "list_a[3]"
      ],
      "metadata": {
        "colab": {
          "base_uri": "https://localhost:8080/"
        },
        "id": "PZ_Y1bor7mD_",
        "outputId": "b16f4d5b-350d-458e-f956-ec61d7e6a535"
      },
      "execution_count": 9,
      "outputs": [
        {
          "output_type": "execute_result",
          "data": {
            "text/plain": [
              "4"
            ]
          },
          "metadata": {},
          "execution_count": 9
        }
      ]
    },
    {
      "cell_type": "code",
      "source": [
        "list_b[3]"
      ],
      "metadata": {
        "colab": {
          "base_uri": "https://localhost:8080/"
        },
        "id": "761KC_0a7qWv",
        "outputId": "5e4307c4-8c1c-45c2-ea6f-6064d758fd24"
      },
      "execution_count": 10,
      "outputs": [
        {
          "output_type": "execute_result",
          "data": {
            "text/plain": [
              "[1, 2, 3, 4, 5, 6]"
            ]
          },
          "metadata": {},
          "execution_count": 10
        }
      ]
    },
    {
      "cell_type": "code",
      "source": [
        "list_b[3][4]"
      ],
      "metadata": {
        "colab": {
          "base_uri": "https://localhost:8080/"
        },
        "id": "Nlqiwkhh71t3",
        "outputId": "5ea397b8-191a-4c6c-fe19-001ed18fc921"
      },
      "execution_count": 11,
      "outputs": [
        {
          "output_type": "execute_result",
          "data": {
            "text/plain": [
              "5"
            ]
          },
          "metadata": {},
          "execution_count": 11
        }
      ]
    },
    {
      "cell_type": "code",
      "source": [
        "list_a[6] #error เพราะ เรียกลำดับที่ไม่มีอยู่ใน list"
      ],
      "metadata": {
        "colab": {
          "base_uri": "https://localhost:8080/",
          "height": 166
        },
        "id": "cw17Ztxc8fU_",
        "outputId": "1d09a0ce-51a7-4530-bea0-895220dd5138"
      },
      "execution_count": 12,
      "outputs": [
        {
          "output_type": "error",
          "ename": "IndexError",
          "evalue": "ignored",
          "traceback": [
            "\u001b[0;31m---------------------------------------------------------------------------\u001b[0m",
            "\u001b[0;31mIndexError\u001b[0m                                Traceback (most recent call last)",
            "\u001b[0;32m<ipython-input-12-d6b61775e813>\u001b[0m in \u001b[0;36m<module>\u001b[0;34m()\u001b[0m\n\u001b[0;32m----> 1\u001b[0;31m \u001b[0mlist_a\u001b[0m\u001b[0;34m[\u001b[0m\u001b[0;36m6\u001b[0m\u001b[0;34m]\u001b[0m\u001b[0;34m\u001b[0m\u001b[0;34m\u001b[0m\u001b[0m\n\u001b[0m",
            "\u001b[0;31mIndexError\u001b[0m: list index out of range"
          ]
        }
      ]
    },
    {
      "cell_type": "code",
      "source": [
        "list_a[-1] #index -1 คือตัวสุดท้ายของ list ใช้-1เพราะ 1.มีสมาชิกหลายตัว ต้องนับเริ่มจาก0 มันมีความผิดพลาดได้ 2.list มีขนาดไม่แน่นอน"
      ],
      "metadata": {
        "colab": {
          "base_uri": "https://localhost:8080/"
        },
        "id": "2ezBp3148qOO",
        "outputId": "52d38a92-041a-4045-f530-5d8595e3ae6a"
      },
      "execution_count": 13,
      "outputs": [
        {
          "output_type": "execute_result",
          "data": {
            "text/plain": [
              "6"
            ]
          },
          "metadata": {},
          "execution_count": 13
        }
      ]
    },
    {
      "cell_type": "code",
      "source": [
        "list_a[-4]"
      ],
      "metadata": {
        "colab": {
          "base_uri": "https://localhost:8080/"
        },
        "id": "zK4Y24e99KO5",
        "outputId": "c20078a8-5010-45d4-f942-4d7daf6450d8"
      },
      "execution_count": 14,
      "outputs": [
        {
          "output_type": "execute_result",
          "data": {
            "text/plain": [
              "3"
            ]
          },
          "metadata": {},
          "execution_count": 14
        }
      ]
    },
    {
      "cell_type": "markdown",
      "source": [
        "### การสร้าง 'list()'\n",
        "มี 2 แบบ"
      ],
      "metadata": {
        "id": "20AD8o8M8p2G"
      }
    },
    {
      "cell_type": "code",
      "source": [
        "list_x1 = []  #แบบที่ 1\n",
        "list_x2 = list() #แบบที่ 2 "
      ],
      "metadata": {
        "id": "KSW4zL4j9OIv"
      },
      "execution_count": 15,
      "outputs": []
    },
    {
      "cell_type": "code",
      "source": [
        "print(list_x1)\n",
        "print(list_x2)"
      ],
      "metadata": {
        "colab": {
          "base_uri": "https://localhost:8080/"
        },
        "id": "3iAhEbww-DtG",
        "outputId": "be200a51-5a95-43ce-e94a-d312f427f631"
      },
      "execution_count": 16,
      "outputs": [
        {
          "output_type": "stream",
          "name": "stdout",
          "text": [
            "[]\n",
            "[]\n"
          ]
        }
      ]
    },
    {
      "cell_type": "markdown",
      "source": [
        "### เพิ่มสมาชิกเข้าไปใน list ด้วย append()"
      ],
      "metadata": {
        "id": "hXpISur5-RAv"
      }
    },
    {
      "cell_type": "code",
      "source": [
        "list_x1.append(2)"
      ],
      "metadata": {
        "id": "7QZz3QrC-Xyv"
      },
      "execution_count": 17,
      "outputs": []
    },
    {
      "cell_type": "code",
      "source": [
        "list_x1"
      ],
      "metadata": {
        "colab": {
          "base_uri": "https://localhost:8080/"
        },
        "id": "xQzrKyXs_Fyv",
        "outputId": "461c88c9-1277-4afc-8a3b-a49f577784b3"
      },
      "execution_count": 18,
      "outputs": [
        {
          "output_type": "execute_result",
          "data": {
            "text/plain": [
              "[2]"
            ]
          },
          "metadata": {},
          "execution_count": 18
        }
      ]
    },
    {
      "cell_type": "code",
      "source": [
        "list_x1.append(4)\n",
        "print(list_x1)"
      ],
      "metadata": {
        "colab": {
          "base_uri": "https://localhost:8080/"
        },
        "id": "YWQgLV6o_JGv",
        "outputId": "dc2ba235-1ec4-4f65-d62f-1e3560f7dd59"
      },
      "execution_count": 19,
      "outputs": [
        {
          "output_type": "stream",
          "name": "stdout",
          "text": [
            "[2, 4]\n"
          ]
        }
      ]
    },
    {
      "cell_type": "code",
      "source": [
        "list_x1[0]"
      ],
      "metadata": {
        "colab": {
          "base_uri": "https://localhost:8080/"
        },
        "id": "OPPEnzVR_d2p",
        "outputId": "77da7b9e-bfc3-4562-8f7f-8ecc2e0a7004"
      },
      "execution_count": 20,
      "outputs": [
        {
          "output_type": "execute_result",
          "data": {
            "text/plain": [
              "2"
            ]
          },
          "metadata": {},
          "execution_count": 20
        }
      ]
    },
    {
      "cell_type": "code",
      "source": [
        "list_x1[-1]"
      ],
      "metadata": {
        "colab": {
          "base_uri": "https://localhost:8080/"
        },
        "id": "siRYV0WC_hKw",
        "outputId": "3e4dc407-03a7-4250-f825-182adc4f82fa"
      },
      "execution_count": 21,
      "outputs": [
        {
          "output_type": "execute_result",
          "data": {
            "text/plain": [
              "4"
            ]
          },
          "metadata": {},
          "execution_count": 21
        }
      ]
    },
    {
      "cell_type": "code",
      "source": [
        "list_x2"
      ],
      "metadata": {
        "colab": {
          "base_uri": "https://localhost:8080/"
        },
        "id": "Nn9DrjlE_kNO",
        "outputId": "9a6e9900-98e2-4d74-8df3-8bc4c1f70de3"
      },
      "execution_count": 22,
      "outputs": [
        {
          "output_type": "execute_result",
          "data": {
            "text/plain": [
              "[]"
            ]
          },
          "metadata": {},
          "execution_count": 22
        }
      ]
    },
    {
      "cell_type": "code",
      "source": [
        "list_x2.append('ha')"
      ],
      "metadata": {
        "id": "8hVM0dDB_rAv"
      },
      "execution_count": 24,
      "outputs": []
    },
    {
      "cell_type": "code",
      "source": [
        "list_x2"
      ],
      "metadata": {
        "colab": {
          "base_uri": "https://localhost:8080/"
        },
        "id": "fzIupiDe_xRu",
        "outputId": "d6c2ebc3-4bd3-4eda-989d-b17dbbec014a"
      },
      "execution_count": 25,
      "outputs": [
        {
          "output_type": "execute_result",
          "data": {
            "text/plain": [
              "['ha']"
            ]
          },
          "metadata": {},
          "execution_count": 25
        }
      ]
    },
    {
      "cell_type": "markdown",
      "source": [
        "### ลบสมาชิกจาก list"
      ],
      "metadata": {
        "id": "B_r1X8qGAP_f"
      }
    },
    {
      "cell_type": "code",
      "source": [
        "list_x1"
      ],
      "metadata": {
        "colab": {
          "base_uri": "https://localhost:8080/"
        },
        "id": "cIkOAs4SADVv",
        "outputId": "003bd281-9ca8-48af-b30e-b3bd10560b53"
      },
      "execution_count": 26,
      "outputs": [
        {
          "output_type": "execute_result",
          "data": {
            "text/plain": [
              "[2, 4, 'ha']"
            ]
          },
          "metadata": {},
          "execution_count": 26
        }
      ]
    },
    {
      "cell_type": "code",
      "source": [
        "list_x1.pop()"
      ],
      "metadata": {
        "colab": {
          "base_uri": "https://localhost:8080/",
          "height": 35
        },
        "id": "VBCrMtWUAGwX",
        "outputId": "31de30d1-00aa-4a59-d23e-2714bb9f70f8"
      },
      "execution_count": 27,
      "outputs": [
        {
          "output_type": "execute_result",
          "data": {
            "application/vnd.google.colaboratory.intrinsic+json": {
              "type": "string"
            },
            "text/plain": [
              "'ha'"
            ]
          },
          "metadata": {},
          "execution_count": 27
        }
      ]
    },
    {
      "cell_type": "code",
      "source": [
        "list_x1"
      ],
      "metadata": {
        "colab": {
          "base_uri": "https://localhost:8080/"
        },
        "id": "0wHR37J6AOEv",
        "outputId": "51b711ae-5879-42b9-a22a-506d73b44b25"
      },
      "execution_count": 28,
      "outputs": [
        {
          "output_type": "execute_result",
          "data": {
            "text/plain": [
              "[2, 4]"
            ]
          },
          "metadata": {},
          "execution_count": 28
        }
      ]
    },
    {
      "cell_type": "markdown",
      "source": [
        "### len() ตรวจสอบจำนวนสมาชิกของ list"
      ],
      "metadata": {
        "id": "7DocmwUJB81e"
      }
    },
    {
      "cell_type": "code",
      "source": [
        "print(list_b)\n",
        "print(len(list_b))"
      ],
      "metadata": {
        "colab": {
          "base_uri": "https://localhost:8080/"
        },
        "id": "RpNDcmwCCCr_",
        "outputId": "5becf59d-fb83-4b93-baae-f90a63c82255"
      },
      "execution_count": 29,
      "outputs": [
        {
          "output_type": "stream",
          "name": "stdout",
          "text": [
            "['ab', 2, 3.14, [1, 2, 3, 4, 5, 6]]\n",
            "4\n"
          ]
        }
      ]
    },
    {
      "cell_type": "code",
      "source": [
        "len(list_a)"
      ],
      "metadata": {
        "colab": {
          "base_uri": "https://localhost:8080/"
        },
        "id": "vaF-oWPlCsrg",
        "outputId": "1f7621f5-3364-4b3b-80dd-64f4cb3343ec"
      },
      "execution_count": 30,
      "outputs": [
        {
          "output_type": "execute_result",
          "data": {
            "text/plain": [
              "6"
            ]
          },
          "metadata": {},
          "execution_count": 30
        }
      ]
    },
    {
      "cell_type": "markdown",
      "source": [
        "### String is a list of charactor"
      ],
      "metadata": {
        "id": "AcbdpAR8Cvt3"
      }
    },
    {
      "cell_type": "code",
      "source": [
        "st_stat = 'Department of Statistics,Faculty of Science'"
      ],
      "metadata": {
        "id": "wkqLcifDDKqQ"
      },
      "execution_count": 31,
      "outputs": []
    },
    {
      "cell_type": "code",
      "source": [
        "st_stat[10]"
      ],
      "metadata": {
        "colab": {
          "base_uri": "https://localhost:8080/",
          "height": 35
        },
        "id": "Yv2lgIw_DXVG",
        "outputId": "3730e131-42df-4787-c299-74fb927f1fb1"
      },
      "execution_count": 32,
      "outputs": [
        {
          "output_type": "execute_result",
          "data": {
            "application/vnd.google.colaboratory.intrinsic+json": {
              "type": "string"
            },
            "text/plain": [
              "' '"
            ]
          },
          "metadata": {},
          "execution_count": 32
        }
      ]
    },
    {
      "cell_type": "code",
      "source": [
        "len(st_stat)"
      ],
      "metadata": {
        "colab": {
          "base_uri": "https://localhost:8080/"
        },
        "id": "MgJEjAXdDar5",
        "outputId": "28cd02b0-c88c-449a-e00c-71affafda1bb"
      },
      "execution_count": 33,
      "outputs": [
        {
          "output_type": "execute_result",
          "data": {
            "text/plain": [
              "43"
            ]
          },
          "metadata": {},
          "execution_count": 33
        }
      ]
    },
    {
      "cell_type": "markdown",
      "source": [
        "### List Slicing"
      ],
      "metadata": {
        "id": "rLnmLZyUDiqH"
      }
    },
    {
      "cell_type": "markdown",
      "source": [
        "List[จุดเริ่มต้น:จุดสุดท้าย]\n",
        "\n",
        "List[จุดเริ่มต้น:จุดสุดท้าย:step]"
      ],
      "metadata": {
        "id": "zw0Vf0RNEc-e"
      }
    },
    {
      "cell_type": "code",
      "source": [
        "list_a"
      ],
      "metadata": {
        "colab": {
          "base_uri": "https://localhost:8080/"
        },
        "id": "S2zNy7cxDoH_",
        "outputId": "5b0c79e0-f3ff-461a-8293-491a4dc1a07e"
      },
      "execution_count": 34,
      "outputs": [
        {
          "output_type": "execute_result",
          "data": {
            "text/plain": [
              "[1, 2, 3, 4, 5, 6]"
            ]
          },
          "metadata": {},
          "execution_count": 34
        }
      ]
    },
    {
      "cell_type": "code",
      "source": [
        "list_a[2]"
      ],
      "metadata": {
        "colab": {
          "base_uri": "https://localhost:8080/"
        },
        "id": "8J03XT38D203",
        "outputId": "9bf9056c-ff3c-4c5f-b17d-eecab7a1f6cb"
      },
      "execution_count": 35,
      "outputs": [
        {
          "output_type": "execute_result",
          "data": {
            "text/plain": [
              "3"
            ]
          },
          "metadata": {},
          "execution_count": 35
        }
      ]
    },
    {
      "cell_type": "markdown",
      "source": [
        "### : colon"
      ],
      "metadata": {
        "id": "Dao2JHh-G3xP"
      }
    },
    {
      "cell_type": "code",
      "source": [
        "list_a[-3:] # : colon"
      ],
      "metadata": {
        "colab": {
          "base_uri": "https://localhost:8080/"
        },
        "id": "XZUIDUWFEWW_",
        "outputId": "a8f03fdb-d68f-4e0c-8cab-e56074dea28e"
      },
      "execution_count": 36,
      "outputs": [
        {
          "output_type": "execute_result",
          "data": {
            "text/plain": [
              "[4, 5, 6]"
            ]
          },
          "metadata": {},
          "execution_count": 36
        }
      ]
    },
    {
      "cell_type": "code",
      "source": [
        "list_a[:4]"
      ],
      "metadata": {
        "colab": {
          "base_uri": "https://localhost:8080/"
        },
        "id": "u-2ePTPgGX_C",
        "outputId": "de734c5e-c4a1-4079-94b7-7cce2b3c51fb"
      },
      "execution_count": 38,
      "outputs": [
        {
          "output_type": "execute_result",
          "data": {
            "text/plain": [
              "[1, 2, 3, 4]"
            ]
          },
          "metadata": {},
          "execution_count": 38
        }
      ]
    },
    {
      "cell_type": "code",
      "source": [
        "list_a[1:4]"
      ],
      "metadata": {
        "colab": {
          "base_uri": "https://localhost:8080/"
        },
        "id": "gR4z7ZB9Fv_3",
        "outputId": "d83a54d8-f6ac-4e24-a54c-7f6308376bfb"
      },
      "execution_count": 37,
      "outputs": [
        {
          "output_type": "execute_result",
          "data": {
            "text/plain": [
              "[2, 3, 4]"
            ]
          },
          "metadata": {},
          "execution_count": 37
        }
      ]
    },
    {
      "cell_type": "code",
      "source": [
        "list_a[:]"
      ],
      "metadata": {
        "colab": {
          "base_uri": "https://localhost:8080/"
        },
        "id": "SbwvgeGzGa6w",
        "outputId": "56c8f84c-8a60-40c1-fa29-533b3eabf5eb"
      },
      "execution_count": 39,
      "outputs": [
        {
          "output_type": "execute_result",
          "data": {
            "text/plain": [
              "[1, 2, 3, 4, 5, 6]"
            ]
          },
          "metadata": {},
          "execution_count": 39
        }
      ]
    },
    {
      "cell_type": "markdown",
      "source": [
        "![image.png](data:image/png;base64,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)"
      ],
      "metadata": {
        "id": "M-iuyvKoIxjY"
      }
    },
    {
      "cell_type": "markdown",
      "source": [
        "### step"
      ],
      "metadata": {
        "id": "t7cx2_xuGwEQ"
      }
    },
    {
      "cell_type": "code",
      "source": [
        "list_c = [1,2,3,4,5,6,7,8,9,10,11,12,13]"
      ],
      "metadata": {
        "id": "EgpTaxauGxr3"
      },
      "execution_count": 40,
      "outputs": []
    },
    {
      "cell_type": "code",
      "source": [
        "list_c[:10:] #10 ตัวแรก"
      ],
      "metadata": {
        "colab": {
          "base_uri": "https://localhost:8080/"
        },
        "id": "SHVJa8AhG_a_",
        "outputId": "ea6c8c09-51ad-4cc7-c7b3-b79b73e7443f"
      },
      "execution_count": 43,
      "outputs": [
        {
          "output_type": "execute_result",
          "data": {
            "text/plain": [
              "[1, 2, 3, 4, 5, 6, 7, 8, 9, 10]"
            ]
          },
          "metadata": {},
          "execution_count": 43
        }
      ]
    },
    {
      "cell_type": "code",
      "source": [
        "list_c[:10:2]"
      ],
      "metadata": {
        "colab": {
          "base_uri": "https://localhost:8080/"
        },
        "id": "cX3QwiZPHQYH",
        "outputId": "8f8c88e9-a038-45f9-b52e-d25a16af5160"
      },
      "execution_count": 44,
      "outputs": [
        {
          "output_type": "execute_result",
          "data": {
            "text/plain": [
              "[1, 3, 5, 7, 9]"
            ]
          },
          "metadata": {},
          "execution_count": 44
        }
      ]
    },
    {
      "cell_type": "code",
      "source": [
        "list_c[::-1] #step -1 มันก็จะไปวิ่งจากข้างหลังมาข้างหน้า"
      ],
      "metadata": {
        "colab": {
          "base_uri": "https://localhost:8080/"
        },
        "id": "VrU_lymvHan5",
        "outputId": "bc98f404-a54f-4c7a-ec7e-ec1e85f7ec7b"
      },
      "execution_count": 46,
      "outputs": [
        {
          "output_type": "execute_result",
          "data": {
            "text/plain": [
              "[13, 12, 11, 10, 9, 8, 7, 6, 5, 4, 3, 2, 1]"
            ]
          },
          "metadata": {},
          "execution_count": 46
        }
      ]
    },
    {
      "cell_type": "markdown",
      "source": [
        "### range()"
      ],
      "metadata": {
        "id": "7bHIMq3UH8n6"
      }
    },
    {
      "cell_type": "code",
      "source": [
        "range(21) #input ที่ใส่เข้ามาในนี้คือตัวสุดท้ายของมัน "
      ],
      "metadata": {
        "colab": {
          "base_uri": "https://localhost:8080/"
        },
        "id": "eP22AAG8IPV_",
        "outputId": "2eaafd8d-4781-4d3d-fa19-705de41333d5"
      },
      "execution_count": 47,
      "outputs": [
        {
          "output_type": "execute_result",
          "data": {
            "text/plain": [
              "range(0, 21)"
            ]
          },
          "metadata": {},
          "execution_count": 47
        }
      ]
    },
    {
      "cell_type": "code",
      "source": [
        "a = list(range(21))"
      ],
      "metadata": {
        "id": "XtDPUAlqHkU2"
      },
      "execution_count": 48,
      "outputs": []
    },
    {
      "cell_type": "code",
      "source": [
        "a"
      ],
      "metadata": {
        "colab": {
          "base_uri": "https://localhost:8080/"
        },
        "id": "9UEtwfYxIRaP",
        "outputId": "9f12ac1d-55a6-43f2-f9e1-505404b5f72b"
      },
      "execution_count": 49,
      "outputs": [
        {
          "output_type": "execute_result",
          "data": {
            "text/plain": [
              "[0, 1, 2, 3, 4, 5, 6, 7, 8, 9, 10, 11, 12, 13, 14, 15, 16, 17, 18, 19, 20]"
            ]
          },
          "metadata": {},
          "execution_count": 49
        }
      ]
    },
    {
      "cell_type": "code",
      "source": [
        "list(range(1,20)) #จุดเริ่มต้นคือ 1 แต่ 21 เป็นวงกลมโปร่ง"
      ],
      "metadata": {
        "colab": {
          "base_uri": "https://localhost:8080/"
        },
        "id": "ELe3uuacIbi5",
        "outputId": "56709d1b-9ac0-4ca2-f453-5780ab0f0331"
      },
      "execution_count": 50,
      "outputs": [
        {
          "output_type": "execute_result",
          "data": {
            "text/plain": [
              "[1, 2, 3, 4, 5, 6, 7, 8, 9, 10, 11, 12, 13, 14, 15, 16, 17, 18, 19]"
            ]
          },
          "metadata": {},
          "execution_count": 50
        }
      ]
    },
    {
      "cell_type": "markdown",
      "source": [
        "Homework2 คำนวณเวลาเป็นวินาทีของเวลาต่อไปนี้โดยใช้คำสั่ง split() ช่วย (printออกมาให้สวยงาม)\n",
        "\n",
        "\n",
        "*   12:30:15\n",
        "*   13:41:07\n",
        "*   09:11:50\n",
        "*   21:30:15\n",
        "*   03:10:15"
      ],
      "metadata": {
        "id": "Xb0ASEKoI9_o"
      }
    },
    {
      "cell_type": "code",
      "source": [
        "#01:02:03\n",
        "\n",
        "a = 1*60*60 + (2*60) + 3\n",
        "print(f'01:02:03 แปลงเป็นวินาทีได้ {a} วินาที')"
      ],
      "metadata": {
        "colab": {
          "base_uri": "https://localhost:8080/"
        },
        "id": "YqBHrbs3JoXI",
        "outputId": "4900fe76-a2c8-42e8-815e-94e19d324f60"
      },
      "execution_count": 54,
      "outputs": [
        {
          "output_type": "stream",
          "name": "stdout",
          "text": [
            "01:02:03 แปลงเป็นวินาทีได้ 3723 วินาที\n"
          ]
        }
      ]
    },
    {
      "cell_type": "code",
      "source": [
        ""
      ],
      "metadata": {
        "id": "bqUfE5VNJ5GH"
      },
      "execution_count": null,
      "outputs": []
    }
  ]
}