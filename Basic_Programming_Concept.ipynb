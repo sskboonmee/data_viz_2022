{
  "nbformat": 4,
  "nbformat_minor": 0,
  "metadata": {
    "colab": {
      "name": "Basic_Programming_Concept.ipynb",
      "provenance": [],
      "authorship_tag": "ABX9TyMRIX3sj4ZhDhU3bZu7ab3q",
      "include_colab_link": true
    },
    "kernelspec": {
      "name": "python3",
      "display_name": "Python 3"
    },
    "language_info": {
      "name": "python"
    }
  },
  "cells": [
    {
      "cell_type": "markdown",
      "metadata": {
        "id": "view-in-github",
        "colab_type": "text"
      },
      "source": [
        "<a href=\"https://colab.research.google.com/github/sskboonmee/data_viz_2022/blob/main/Basic_Programming_Concept.ipynb\" target=\"_parent\"><img src=\"https://colab.research.google.com/assets/colab-badge.svg\" alt=\"Open In Colab\"/></a>"
      ]
    },
    {
      "cell_type": "markdown",
      "source": [
        "# Function ($f(x) = y $ )"
      ],
      "metadata": {
        "id": "8MVzo2hbDpkn"
      }
    },
    {
      "cell_type": "markdown",
      "source": [
        "```python\n",
        "def function_name(input_x):   #def = นิยามฟังก์ชัน\n",
        "    # do something with input_x to get output_y\n",
        "    return output_y\n",
        " ```"
      ],
      "metadata": {
        "id": "TtKxxMeoEJPj"
      }
    },
    {
      "cell_type": "markdown",
      "source": [
        "$f1(x) = x**2 + 75$"
      ],
      "metadata": {
        "id": "Qt25MD4RGE-u"
      }
    },
    {
      "cell_type": "code",
      "source": [
        "def function_f1(x):\n",
        "    a = x**2\n",
        "    y = a + 75\n",
        "    return y\n",
        "\n",
        "print('done!')"
      ],
      "metadata": {
        "colab": {
          "base_uri": "https://localhost:8080/"
        },
        "id": "A4S07GrpD30-",
        "outputId": "8df0a7a1-d50e-4016-916e-ce81feb5250f"
      },
      "execution_count": 23,
      "outputs": [
        {
          "output_type": "stream",
          "name": "stdout",
          "text": [
            "done!\n"
          ]
        }
      ]
    },
    {
      "cell_type": "code",
      "source": [
        "function_f1(3)"
      ],
      "metadata": {
        "colab": {
          "base_uri": "https://localhost:8080/"
        },
        "id": "FSilx6ZxD3xe",
        "outputId": "87a4024d-6a50-4fd6-88c2-e1929f265db9"
      },
      "execution_count": 24,
      "outputs": [
        {
          "output_type": "execute_result",
          "data": {
            "text/plain": [
              "84"
            ]
          },
          "metadata": {},
          "execution_count": 24
        }
      ]
    },
    {
      "cell_type": "markdown",
      "source": [
        "function มีส่วนสำคัญทั้งหมด 4 ส่วน\n",
        "1. บอก python ว่าเราจะเขียนฟังก์ชัน ชื่ออะไร ```def function_name() : (ขาดไม่ได้)```\n",
        "2. กำหนดตัวแปรที่จะเป็น input ```input``` (ขาดได้)\n",
        "3. ส่วนประมวลผล do_something with Input to get Output (ขาดไม่ได้)\n",
        "4. ส่วน output return Output(ขาดได้)"
      ],
      "metadata": {
        "id": "OttfzKVjHhC-"
      }
    },
    {
      "cell_type": "markdown",
      "source": [
        "##ตัวอย่าง function ที่มีส่วนประกอบครบ"
      ],
      "metadata": {
        "id": "Ng2USk8MISe-"
      }
    },
    {
      "cell_type": "code",
      "source": [
        "def function_f1(x):\n",
        "    a = x**2\n",
        "    y = a + 75\n",
        "    return y"
      ],
      "metadata": {
        "id": "dI2CJNfHD3uH"
      },
      "execution_count": 25,
      "outputs": []
    },
    {
      "cell_type": "markdown",
      "source": [
        "##ตัวอย่าง function ที่ไม่มี input"
      ],
      "metadata": {
        "id": "Qi_D4L3JIZaP"
      }
    },
    {
      "cell_type": "code",
      "source": [
        "def pi_v():\n",
        "    y = 3.1459265359\n",
        "    return y\n",
        "    "
      ],
      "metadata": {
        "id": "IK5YfjGpD3YJ"
      },
      "execution_count": 26,
      "outputs": []
    },
    {
      "cell_type": "code",
      "source": [
        "piv = pi_v()\n",
        "circle_area_r2 = piv*(2**2)\n",
        "print(circle_area_r2)"
      ],
      "metadata": {
        "colab": {
          "base_uri": "https://localhost:8080/"
        },
        "id": "XIwpoQU9IpIm",
        "outputId": "faf1d26d-c677-4704-fc4c-50816b50cc49"
      },
      "execution_count": 27,
      "outputs": [
        {
          "output_type": "stream",
          "name": "stdout",
          "text": [
            "12.5837061436\n"
          ]
        }
      ]
    },
    {
      "cell_type": "markdown",
      "source": [
        "##function ไม่มี process ไม่ได้"
      ],
      "metadata": {
        "id": "8TWj4XHUKNqf"
      }
    },
    {
      "cell_type": "code",
      "source": [
        "dew function_a():"
      ],
      "metadata": {
        "id": "-MiMPnHvKT3e",
        "colab": {
          "base_uri": "https://localhost:8080/",
          "height": 132
        },
        "outputId": "2e253612-0c62-46df-a7e0-450adc718aa1"
      },
      "execution_count": 29,
      "outputs": [
        {
          "output_type": "error",
          "ename": "SyntaxError",
          "evalue": "ignored",
          "traceback": [
            "\u001b[0;36m  File \u001b[0;32m\"<ipython-input-29-7c46f5db047c>\"\u001b[0;36m, line \u001b[0;32m1\u001b[0m\n\u001b[0;31m    dew function_a():\u001b[0m\n\u001b[0m                 ^\u001b[0m\n\u001b[0;31mSyntaxError\u001b[0m\u001b[0;31m:\u001b[0m invalid syntax\n"
          ]
        }
      ]
    },
    {
      "cell_type": "markdown",
      "source": [
        "##ตัวอย่าง function ที่ไม่มี output"
      ],
      "metadata": {
        "id": "EeSSZPnVKXbh"
      }
    },
    {
      "cell_type": "code",
      "source": [
        "def print_name_id(name,id):\n",
        "    print(f'ชื่อ {name} รหัสประจำตัว {id}')"
      ],
      "metadata": {
        "id": "VBiFGXJOI_D_"
      },
      "execution_count": 31,
      "outputs": []
    },
    {
      "cell_type": "code",
      "source": [
        "print_name_id('ศศิกานต์','6230205399')"
      ],
      "metadata": {
        "colab": {
          "base_uri": "https://localhost:8080/"
        },
        "id": "o1NyWvObI-1o",
        "outputId": "b0419b4e-75e1-4d11-8fdc-3ee25f0c8308"
      },
      "execution_count": 32,
      "outputs": [
        {
          "output_type": "stream",
          "name": "stdout",
          "text": [
            "ชื่อ ศศิกานต์ รหัสประจำตัว 6230205399\n"
          ]
        }
      ]
    },
    {
      "cell_type": "code",
      "source": [
        "a = print_name_id('ศศิกานต์','6230205399')"
      ],
      "metadata": {
        "colab": {
          "base_uri": "https://localhost:8080/"
        },
        "id": "4U8itDC7I-wV",
        "outputId": "d2c26103-aec9-405d-d88f-42e2f9e03185"
      },
      "execution_count": 33,
      "outputs": [
        {
          "output_type": "stream",
          "name": "stdout",
          "text": [
            "ชื่อ ศศิกานต์ รหัสประจำตัว 6230205399\n"
          ]
        }
      ]
    },
    {
      "cell_type": "code",
      "source": [
        "a"
      ],
      "metadata": {
        "id": "fZVx0RWKO6iX"
      },
      "execution_count": 34,
      "outputs": []
    },
    {
      "cell_type": "markdown",
      "source": [
        "ตัวอย่าง function print "
      ],
      "metadata": {
        "id": "d-_w40-ZO8Bh"
      }
    },
    {
      "cell_type": "code",
      "source": [
        "print('ศศิกานต์')\n",
        "print('623020539-9')"
      ],
      "metadata": {
        "colab": {
          "base_uri": "https://localhost:8080/"
        },
        "id": "qyj6H-NSPAaH",
        "outputId": "0ff3eae3-bc2a-4fdd-dcdc-9fd74a6d3746"
      },
      "execution_count": 35,
      "outputs": [
        {
          "output_type": "stream",
          "name": "stdout",
          "text": [
            "ศศิกานต์\n",
            "623020539-9\n"
          ]
        }
      ]
    },
    {
      "cell_type": "code",
      "source": [
        "print('ศศิกานต์',end='->')\n",
        "print('623020539-9')"
      ],
      "metadata": {
        "colab": {
          "base_uri": "https://localhost:8080/"
        },
        "id": "mZX1ihH4O7eX",
        "outputId": "485b8bd2-f99a-4aef-9dc3-d2fb70dc2784"
      },
      "execution_count": 36,
      "outputs": [
        {
          "output_type": "stream",
          "name": "stdout",
          "text": [
            "ศศิกานต์->623020539-9\n"
          ]
        }
      ]
    },
    {
      "cell_type": "code",
      "source": [
        "print('ศศิกานต์','623020539-9')"
      ],
      "metadata": {
        "colab": {
          "base_uri": "https://localhost:8080/"
        },
        "id": "U_80V5uJQB1J",
        "outputId": "b8489e7e-3f5f-4845-ca01-308c07795f25"
      },
      "execution_count": 37,
      "outputs": [
        {
          "output_type": "stream",
          "name": "stdout",
          "text": [
            "ศศิกานต์ 623020539-9\n"
          ]
        }
      ]
    },
    {
      "cell_type": "code",
      "source": [
        "print('ศศิกานต์','623020539-9',sep=' & ')"
      ],
      "metadata": {
        "colab": {
          "base_uri": "https://localhost:8080/"
        },
        "id": "bV8d0EhkQHDy",
        "outputId": "e69d9910-2bb9-4be6-ba1f-3b81c1dba1a7"
      },
      "execution_count": 38,
      "outputs": [
        {
          "output_type": "stream",
          "name": "stdout",
          "text": [
            "ศศิกานต์ & 623020539-9\n"
          ]
        }
      ]
    },
    {
      "cell_type": "markdown",
      "source": [
        "### input ของ Function แบ่งเป็น 2 ชนิด (จำเป็นต้องใส่ กับ ไม่จำเป็นต้องใส่)"
      ],
      "metadata": {
        "id": "Dih_EwVAQNLO"
      }
    },
    {
      "cell_type": "markdown",
      "source": [
        "ตัวอย่าง function 'print_grade()' มี input  3 ตัวจำเป็นต้องใส่ 2 ตัวคือ name กับ id และไม่จำเป็นต้องใส่ 1 ตัวคือเกรด ซึ่งมีค่า default เป็น F "
      ],
      "metadata": {
        "id": "aML8-lzrREJn"
      }
    },
    {
      "cell_type": "code",
      "source": [
        "def print_grade(name,id,grade = ' F '):\n",
        "    print(f' รหัสประจำตัว {id} ชื่อ {name}')\n",
        "    print(f'ได้เกรด {grade}')"
      ],
      "metadata": {
        "id": "A4eBMwsuQW3X"
      },
      "execution_count": 39,
      "outputs": []
    },
    {
      "cell_type": "code",
      "source": [
        "print_grade('นายสิทธัตกะ จรัสแสง' , '623020541-2','A')"
      ],
      "metadata": {
        "colab": {
          "base_uri": "https://localhost:8080/"
        },
        "id": "wLlvvkYVQctx",
        "outputId": "a4803c27-2972-4bb4-eb0d-9d44062d9ba6"
      },
      "execution_count": 40,
      "outputs": [
        {
          "output_type": "stream",
          "name": "stdout",
          "text": [
            " รหัสประจำตัว 623020541-2 ชื่อ นายสิทธัตกะ จรัสแสง\n",
            "ได้เกรด A\n"
          ]
        }
      ]
    },
    {
      "cell_type": "code",
      "source": [
        "print_grade(id='623020541-2',name='นายสิทธัตกะ จรัสแสง',grade='B+')"
      ],
      "metadata": {
        "colab": {
          "base_uri": "https://localhost:8080/"
        },
        "id": "lFEVD_fBSb5P",
        "outputId": "e3391049-bbd4-41dc-c53b-42a6a753e2fa"
      },
      "execution_count": 41,
      "outputs": [
        {
          "output_type": "stream",
          "name": "stdout",
          "text": [
            " รหัสประจำตัว 623020541-2 ชื่อ นายสิทธัตกะ จรัสแสง\n",
            "ได้เกรด B+\n"
          ]
        }
      ]
    },
    {
      "cell_type": "markdown",
      "source": [
        "# Looping"
      ],
      "metadata": {
        "id": "5KL0PiiQDgzG"
      }
    },
    {
      "cell_type": "markdown",
      "source": [
        "```python\n",
        "\n",
        "for member in listEx:\n",
        "    do_something()\n"
      ],
      "metadata": {
        "id": "7RmX30m0Ttmh"
      }
    },
    {
      "cell_type": "code",
      "source": [
        "for member in [1,2,3,4,5,6]:\n",
        "    print(member)"
      ],
      "metadata": {
        "id": "W1W1zwlNI-K1",
        "colab": {
          "base_uri": "https://localhost:8080/"
        },
        "outputId": "20bc1d1a-f724-483f-a7ff-0f84b685bdb8"
      },
      "execution_count": 42,
      "outputs": [
        {
          "output_type": "stream",
          "name": "stdout",
          "text": [
            "1\n",
            "2\n",
            "3\n",
            "4\n",
            "5\n",
            "6\n"
          ]
        }
      ]
    },
    {
      "cell_type": "code",
      "source": [
        "def print_name(name):\n",
        "    print(f'ฉันชื่อ {name}')"
      ],
      "metadata": {
        "id": "UaO7uVYJbe-f"
      },
      "execution_count": 43,
      "outputs": []
    },
    {
      "cell_type": "code",
      "source": [
        "for name in ['วัชราภรณ์','จุฑากาญจน์ ','ชลธิชา','ญาดา','กิตติคุณ']:\n",
        "    N = name\n",
        "    print_name(N)"
      ],
      "metadata": {
        "colab": {
          "base_uri": "https://localhost:8080/"
        },
        "id": "N-h9KGcHVHTh",
        "outputId": "c83334ad-c95f-49b2-fc20-28471d29bd26"
      },
      "execution_count": 44,
      "outputs": [
        {
          "output_type": "stream",
          "name": "stdout",
          "text": [
            "ฉันชื่อ วัชราภรณ์\n",
            "ฉันชื่อ จุฑากาญจน์ \n",
            "ฉันชื่อ ชลธิชา\n",
            "ฉันชื่อ ญาดา\n",
            "ฉันชื่อ กิตติคุณ\n"
          ]
        }
      ]
    },
    {
      "cell_type": "code",
      "source": [
        "list_name_id_grade = [['นางสาวเบญญาภา ระภูเขียว','623020527-6','B'],\n",
        "                      ['นางสาวทักษิณา ราชหุ่น','623021000-1','A'],\n",
        "                      ['นางสาวปลายฟ้า คำเพ็ง','623021005-1','C']]"
      ],
      "metadata": {
        "id": "DhpOWUlkbWGO"
      },
      "execution_count": 45,
      "outputs": []
    },
    {
      "cell_type": "code",
      "source": [
        "for each in list_name_id_grade:\n",
        "    name = each[0]\n",
        "    id = each[1]\n",
        "    grade = each[2]\n",
        "    print_grade(name,id,grade)\n",
        "    print('----------------')"
      ],
      "metadata": {
        "colab": {
          "base_uri": "https://localhost:8080/"
        },
        "id": "_0baPa8QbYKm",
        "outputId": "1d0e6505-0d0c-409b-855a-91c6df2a84cf"
      },
      "execution_count": 46,
      "outputs": [
        {
          "output_type": "stream",
          "name": "stdout",
          "text": [
            " รหัสประจำตัว 623020527-6 ชื่อ นางสาวเบญญาภา ระภูเขียว\n",
            "ได้เกรด B\n",
            "----------------\n",
            " รหัสประจำตัว 623021000-1 ชื่อ นางสาวทักษิณา ราชหุ่น\n",
            "ได้เกรด A\n",
            "----------------\n",
            " รหัสประจำตัว 623021005-1 ชื่อ นางสาวปลายฟ้า คำเพ็ง\n",
            "ได้เกรด C\n",
            "----------------\n"
          ]
        }
      ]
    },
    {
      "cell_type": "markdown",
      "source": [
        "##ใช้ for loop เพิ่มสมาชิกใน list"
      ],
      "metadata": {
        "id": "gD-luCKDYiYQ"
      }
    },
    {
      "cell_type": "code",
      "source": [
        "list_name = []\n",
        "list_id = []\n",
        "list_grade = []\n",
        "for each in list_name_id_grade:\n",
        "    list_name.append(each[0])\n",
        "    list_id.append(each[1])\n",
        "    list_grade.append(each[2])"
      ],
      "metadata": {
        "id": "RGTvEWy2YoGw"
      },
      "execution_count": 47,
      "outputs": []
    },
    {
      "cell_type": "code",
      "source": [
        "list_name"
      ],
      "metadata": {
        "colab": {
          "base_uri": "https://localhost:8080/"
        },
        "id": "1qGcWtAHZA_f",
        "outputId": "9c1e8857-cbea-4bc2-a290-8292a90a56e4"
      },
      "execution_count": 48,
      "outputs": [
        {
          "output_type": "execute_result",
          "data": {
            "text/plain": [
              "['นางสาวเบญญาภา ระภูเขียว', 'นางสาวทักษิณา ราชหุ่น', 'นางสาวปลายฟ้า คำเพ็ง']"
            ]
          },
          "metadata": {},
          "execution_count": 48
        }
      ]
    },
    {
      "cell_type": "markdown",
      "source": [
        "## การวนลูปด้วย range()"
      ],
      "metadata": {
        "id": "ptRWMLmbbwXX"
      }
    },
    {
      "cell_type": "code",
      "source": [
        "for i in range(100):\n",
        "    print('งง', end = ' ')"
      ],
      "metadata": {
        "colab": {
          "base_uri": "https://localhost:8080/"
        },
        "id": "JfSg92ewb1b-",
        "outputId": "1a019d3e-ae8d-4dec-c5ac-b224534024c3"
      },
      "execution_count": 49,
      "outputs": [
        {
          "output_type": "stream",
          "name": "stdout",
          "text": [
            "งง งง งง งง งง งง งง งง งง งง งง งง งง งง งง งง งง งง งง งง งง งง งง งง งง งง งง งง งง งง งง งง งง งง งง งง งง งง งง งง งง งง งง งง งง งง งง งง งง งง งง งง งง งง งง งง งง งง งง งง งง งง งง งง งง งง งง งง งง งง งง งง งง งง งง งง งง งง งง งง งง งง งง งง งง งง งง งง งง งง งง งง งง งง งง งง งง งง งง งง "
          ]
        }
      ]
    },
    {
      "cell_type": "markdown",
      "source": [
        "##Loop ซ้อน Loop "
      ],
      "metadata": {
        "id": "7jVCxCTXcSJg"
      }
    },
    {
      "cell_type": "code",
      "source": [
        "for mem1 in range(2,5):\n",
        "    print(f'now mem1 = {mem1}')\n",
        "    for mem2 in range(1,13): #[1,2,3,4,5,6,7,8,9,10,11,12]\n",
        "        print(f'{mem1} x {mem2} = {mem1*mem2}')\n",
        "    print( f'end inner for mem1 = {mem1} ' )"
      ],
      "metadata": {
        "colab": {
          "base_uri": "https://localhost:8080/"
        },
        "id": "xJZnTrkicPk3",
        "outputId": "a195630e-6c10-479a-d16d-ab349d7e9c18"
      },
      "execution_count": 52,
      "outputs": [
        {
          "output_type": "stream",
          "name": "stdout",
          "text": [
            "now mem1 = 2\n",
            "2 x 1 = 2\n",
            "2 x 2 = 4\n",
            "2 x 3 = 6\n",
            "2 x 4 = 8\n",
            "2 x 5 = 10\n",
            "2 x 6 = 12\n",
            "2 x 7 = 14\n",
            "2 x 8 = 16\n",
            "2 x 9 = 18\n",
            "2 x 10 = 20\n",
            "2 x 11 = 22\n",
            "2 x 12 = 24\n",
            "end inner for mem1 = 2 \n",
            "now mem1 = 3\n",
            "3 x 1 = 3\n",
            "3 x 2 = 6\n",
            "3 x 3 = 9\n",
            "3 x 4 = 12\n",
            "3 x 5 = 15\n",
            "3 x 6 = 18\n",
            "3 x 7 = 21\n",
            "3 x 8 = 24\n",
            "3 x 9 = 27\n",
            "3 x 10 = 30\n",
            "3 x 11 = 33\n",
            "3 x 12 = 36\n",
            "end inner for mem1 = 3 \n",
            "now mem1 = 4\n",
            "4 x 1 = 4\n",
            "4 x 2 = 8\n",
            "4 x 3 = 12\n",
            "4 x 4 = 16\n",
            "4 x 5 = 20\n",
            "4 x 6 = 24\n",
            "4 x 7 = 28\n",
            "4 x 8 = 32\n",
            "4 x 9 = 36\n",
            "4 x 10 = 40\n",
            "4 x 11 = 44\n",
            "4 x 12 = 48\n",
            "end inner for mem1 = 4 \n"
          ]
        }
      ]
    },
    {
      "cell_type": "markdown",
      "source": [
        "### Loop in function"
      ],
      "metadata": {
        "id": "bMUaK89Pf_nd"
      }
    },
    {
      "cell_type": "code",
      "source": [
        "def print_grade_loop(names,grades):\n",
        "    for n,g in zip(names,grades):  #zip = เอา list 2 อันมาประกบกัน\n",
        "            print(f' {n} ได้เกรด {g}')"
      ],
      "metadata": {
        "id": "arL0KW4ycPGu"
      },
      "execution_count": 55,
      "outputs": []
    },
    {
      "cell_type": "code",
      "source": [
        "print_grade_loop(list_name,list_grade)"
      ],
      "metadata": {
        "colab": {
          "base_uri": "https://localhost:8080/"
        },
        "id": "VsdXTCIYcO6n",
        "outputId": "77d54542-e607-4ecb-d0ad-1998f3f5a11e"
      },
      "execution_count": 61,
      "outputs": [
        {
          "output_type": "stream",
          "name": "stdout",
          "text": [
            " นางสาวเบญญาภา ระภูเขียว ได้เกรด B\n",
            " นางสาวทักษิณา ราชหุ่น ได้เกรด A\n",
            " นางสาวปลายฟ้า คำเพ็ง ได้เกรด C\n"
          ]
        }
      ]
    },
    {
      "cell_type": "markdown",
      "source": [
        "#Condition Statement(if)"
      ],
      "metadata": {
        "id": "SgkC_e_UDkvY"
      }
    },
    {
      "cell_type": "markdown",
      "source": [
        "```python\n",
        "if condition1:\n",
        "    do_something()    ## ถ้า condition1 เป็นจริง ทำ  do_something() \n",
        "elif condition2:\n",
        "    do_another_thing()  ##ถ้า condition1ไม่เป็นจริงแต่  condition2 เป็นจริง ทำ do_another_thing()\n",
        "else:\n",
        "    do_last_thing()  ## ถ้าไม่มี condition ไหนไม่เป็นจริงเลย ทำ  do_last_thing() \n",
        "```"
      ],
      "metadata": {
        "id": "mw5VURJgh_rc"
      }
    },
    {
      "cell_type": "code",
      "execution_count": 62,
      "metadata": {
        "id": "IxMbH7l_DaKk",
        "colab": {
          "base_uri": "https://localhost:8080/"
        },
        "outputId": "6032efe8-d390-478b-ac39-0d038426ffd6"
      },
      "outputs": [
        {
          "output_type": "stream",
          "name": "stdout",
          "text": [
            "น ได้เกรด F\n",
            "า ได้เกรด F\n",
            "ง ได้เกรด F\n",
            "ส ได้เกรด F\n",
            "า ได้เกรด F\n",
            "ว ได้เกรด F\n",
            "ป ได้เกรด F\n",
            "ล ได้เกรด F\n",
            "า ได้เกรด F\n",
            "ย ได้เกรด F\n",
            "ฟ ได้เกรด F\n",
            "้ ได้เกรด F\n",
            "า ได้เกรด F\n",
            "  ได้เกรด F\n",
            "ค ได้เกรด F\n",
            "ำ ได้เกรด F\n",
            "เ ได้เกรด F\n",
            "พ ได้เกรด F\n",
            "็ ได้เกรด F\n",
            "ง ได้เกรด F\n"
          ]
        }
      ],
      "source": [
        "for n in name:\n",
        "    if len(n)>20:\n",
        "        print(f'{n} ได้เกรด A')\n",
        "    else:\n",
        "        print(f'{n} ได้เกรด F')"
      ]
    },
    {
      "cell_type": "markdown",
      "source": [
        "###operator ที่ใช้ตรวจสอบ condition \n",
        "==,!=,>=,<=,<,>,and,or"
      ],
      "metadata": {
        "id": "P54SWPQvkbBk"
      }
    },
    {
      "cell_type": "code",
      "source": [
        "a = 10 == 20\n",
        "print(a)"
      ],
      "metadata": {
        "colab": {
          "base_uri": "https://localhost:8080/"
        },
        "id": "JIVCeawIkacu",
        "outputId": "2e83c99e-dc29-4854-e1ee-3e6a6e2db0a6"
      },
      "execution_count": 63,
      "outputs": [
        {
          "output_type": "stream",
          "name": "stdout",
          "text": [
            "False\n"
          ]
        }
      ]
    },
    {
      "cell_type": "code",
      "source": [
        "b = 15 <=20\n",
        "print(b)"
      ],
      "metadata": {
        "colab": {
          "base_uri": "https://localhost:8080/"
        },
        "id": "QV8V3RZGlJj-",
        "outputId": "1cfe8c17-5315-4bfe-bdc5-ca167398e2f3"
      },
      "execution_count": 64,
      "outputs": [
        {
          "output_type": "stream",
          "name": "stdout",
          "text": [
            "True\n"
          ]
        }
      ]
    },
    {
      "cell_type": "code",
      "source": [
        "if a:\n",
        "    print('x')"
      ],
      "metadata": {
        "id": "amXLOklRlMjl"
      },
      "execution_count": 65,
      "outputs": []
    },
    {
      "cell_type": "code",
      "source": [
        "if True:\n",
        "    print('x')"
      ],
      "metadata": {
        "colab": {
          "base_uri": "https://localhost:8080/"
        },
        "id": "EeyqgLaAlP2F",
        "outputId": "6e733c9b-3052-478f-dd57-f852f9640957"
      },
      "execution_count": 66,
      "outputs": [
        {
          "output_type": "stream",
          "name": "stdout",
          "text": [
            "x\n"
          ]
        }
      ]
    },
    {
      "cell_type": "code",
      "source": [
        "if a and b:\n",
        "    print('x')"
      ],
      "metadata": {
        "id": "_W97M7W_lTvW"
      },
      "execution_count": 67,
      "outputs": []
    },
    {
      "cell_type": "code",
      "source": [
        "if a or b:\n",
        "    print('x')"
      ],
      "metadata": {
        "colab": {
          "base_uri": "https://localhost:8080/"
        },
        "id": "vh-aUy7Ilgtc",
        "outputId": "3b97372c-a62d-4cfa-aba0-41ed9fa3250e"
      },
      "execution_count": 68,
      "outputs": [
        {
          "output_type": "stream",
          "name": "stdout",
          "text": [
            "x\n"
          ]
        }
      ]
    },
    {
      "cell_type": "markdown",
      "source": [
        "# HW\n",
        "\n",
        "เขียน function ตัดเกรด โดยที่ input เป็นคะแนน (0-100) ม output เป็นเกรด (F-A)\n",
        "หรือ ไม่ตัด\n",
        "\n",
        "วนลูปตัดเกรด input = [1,50,65,90,101,-5,49,'ก',80]\n",
        "\n",
        "กำหนด \n",
        "\n",
        "*   ถ้าคะแนนอยู่ระหว่างมากกว่าหรือเท่ากับ 0 แต่น้อยกว่า 50 จะได้เกรด F\n",
        "*   ถ้าคะแนนอยู่ระหว่างมากกว่าหรือเท่ากับ 50 แต่น้อยกว่า 55 จะได้เกรด D\n",
        "*   ถ้าคะแนนอยู่ระหว่างมากกว่าหรือเท่ากับ 55 แต่น้อยกว่า 60 จะได้เกรด D+\n",
        "*   ถ้าคะแนนอยู่ระหว่างมากกว่าหรือเท่ากับ 60 แต่น้อยกว่า 65 จะได้เกรด C\n",
        "*   ถ้าคะแนนอยู่ระหว่างมากกว่าหรือเท่ากับ 65 แต่น้อยกว่า 70 จะได้เกรด C+\n",
        "*   ถ้าคะแนนอยู่ระหว่างมากกว่าหรือเท่ากับ 70 แต่น้อยกว่า 75 จะได้เกรด B\n",
        "*   ถ้าคะแนนอยู่ระหว่างมากกว่าหรือเท่ากับ 75 แต่น้อยกว่า 80 จะได้เกรด B+\n",
        "*   ถ้าคะแนนอยู่ระหว่างมากกว่าหรือเท่ากับ 80 จะได้เกรด A\n",
        "*   รถ้าคะแนนไม่อยู่ในช่วง 0-100 ให้ return 'ไม่สามารถตัดเกรดได้'\n",
        "\n",
        "\n",
        "\n",
        "\n",
        "\n",
        "\n"
      ],
      "metadata": {
        "id": "2zU8pTDEluSU"
      }
    }
  ]
}