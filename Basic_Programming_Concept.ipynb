{
  "nbformat": 4,
  "nbformat_minor": 0,
  "metadata": {
    "colab": {
      "name": "Basic_Programming_Concept.ipynb",
      "provenance": [],
      "authorship_tag": "ABX9TyNWRGtSiqvq1W4JSGnSm76T",
      "include_colab_link": true
    },
    "kernelspec": {
      "name": "python3",
      "display_name": "Python 3"
    },
    "language_info": {
      "name": "python"
    }
  },
  "cells": [
    {
      "cell_type": "markdown",
      "metadata": {
        "id": "view-in-github",
        "colab_type": "text"
      },
      "source": [
        "<a href=\"https://colab.research.google.com/github/sskboonmee/data_viz_2022/blob/main/Basic_Programming_Concept.ipynb\" target=\"_parent\"><img src=\"https://colab.research.google.com/assets/colab-badge.svg\" alt=\"Open In Colab\"/></a>"
      ]
    },
    {
      "cell_type": "markdown",
      "source": [
        "# Function ($f(x) = y $ )"
      ],
      "metadata": {
        "id": "8MVzo2hbDpkn"
      }
    },
    {
      "cell_type": "markdown",
      "source": [
        "```python\n",
        "def function_name(input_x):   #def = นิยามฟังก์ชัน\n",
        "    # do something with input_x to get output_y\n",
        "    return output_y\n",
        " ```"
      ],
      "metadata": {
        "id": "TtKxxMeoEJPj"
      }
    },
    {
      "cell_type": "markdown",
      "source": [
        "$f1(x) = x**2 + 75$"
      ],
      "metadata": {
        "id": "Qt25MD4RGE-u"
      }
    },
    {
      "cell_type": "code",
      "source": [
        "def function_f1(x):\n",
        "    a = x**2\n",
        "    y = a + 75\n",
        "    return y\n",
        "\n",
        "print('done!')"
      ],
      "metadata": {
        "colab": {
          "base_uri": "https://localhost:8080/"
        },
        "id": "A4S07GrpD30-",
        "outputId": "ee68420a-d149-40c5-e4df-d990cfc9566a"
      },
      "execution_count": null,
      "outputs": [
        {
          "output_type": "stream",
          "name": "stdout",
          "text": [
            "done!\n"
          ]
        }
      ]
    },
    {
      "cell_type": "code",
      "source": [
        "function_f1(3)"
      ],
      "metadata": {
        "colab": {
          "base_uri": "https://localhost:8080/"
        },
        "id": "FSilx6ZxD3xe",
        "outputId": "70a5fb3f-fa95-444d-9f11-05c2906d3ebc"
      },
      "execution_count": null,
      "outputs": [
        {
          "output_type": "execute_result",
          "data": {
            "text/plain": [
              "84"
            ]
          },
          "metadata": {},
          "execution_count": 2
        }
      ]
    },
    {
      "cell_type": "markdown",
      "source": [
        "function มีส่วนสำคัญทั้งหมด 4 ส่วน\n",
        "1. บอก python ว่าเราจะเขียนฟังก์ชัน ชื่ออะไร ```def function_name() : (ขาดไม่ได้)```\n",
        "2. กำหนดตัวแปรที่จะเป็น input ```input``` (ขาดได้)\n",
        "3. ส่วนประมวลผล do_something with Input to get Output (ขาดไม่ได้)\n",
        "4. ส่วน output return Output(ขาดได้)"
      ],
      "metadata": {
        "id": "OttfzKVjHhC-"
      }
    },
    {
      "cell_type": "markdown",
      "source": [
        "##ตัวอย่าง function ที่มีส่วนประกอบครบ"
      ],
      "metadata": {
        "id": "Ng2USk8MISe-"
      }
    },
    {
      "cell_type": "code",
      "source": [
        "def function_f1(x):\n",
        "    a = x**2\n",
        "    y = a + 75\n",
        "    return y"
      ],
      "metadata": {
        "id": "dI2CJNfHD3uH"
      },
      "execution_count": null,
      "outputs": []
    },
    {
      "cell_type": "markdown",
      "source": [
        "##ตัวอย่าง function ที่ไม่มี input"
      ],
      "metadata": {
        "id": "Qi_D4L3JIZaP"
      }
    },
    {
      "cell_type": "code",
      "source": [
        "def pi_v():\n",
        "    y = 3.1459265359\n",
        "    return y\n",
        "    "
      ],
      "metadata": {
        "id": "IK5YfjGpD3YJ"
      },
      "execution_count": null,
      "outputs": []
    },
    {
      "cell_type": "code",
      "source": [
        "piv = pi_v()\n",
        "circle_area_r2 = piv*(2**2)\n",
        "print(circle_area_r2)"
      ],
      "metadata": {
        "colab": {
          "base_uri": "https://localhost:8080/"
        },
        "id": "XIwpoQU9IpIm",
        "outputId": "69e7e5bb-bb60-48cd-f18e-0695f8db4a9f"
      },
      "execution_count": null,
      "outputs": [
        {
          "output_type": "stream",
          "name": "stdout",
          "text": [
            "12.5837061436\n"
          ]
        }
      ]
    },
    {
      "cell_type": "markdown",
      "source": [
        "##function ไม่มี process ไม่ได้"
      ],
      "metadata": {
        "id": "8TWj4XHUKNqf"
      }
    },
    {
      "cell_type": "code",
      "source": [
        "dew function_a():"
      ],
      "metadata": {
        "id": "-MiMPnHvKT3e"
      },
      "execution_count": null,
      "outputs": []
    },
    {
      "cell_type": "markdown",
      "source": [
        "##ตัวอย่าง function ที่ไม่มี output"
      ],
      "metadata": {
        "id": "EeSSZPnVKXbh"
      }
    },
    {
      "cell_type": "code",
      "source": [
        "def print_name_id(name,id):\n",
        "    print(f'ชื่อ {name} รหัสประจำตัว {id}')"
      ],
      "metadata": {
        "id": "VBiFGXJOI_D_"
      },
      "execution_count": null,
      "outputs": []
    },
    {
      "cell_type": "code",
      "source": [
        "print_name_id('ศศิกานต์','6230205399')"
      ],
      "metadata": {
        "colab": {
          "base_uri": "https://localhost:8080/"
        },
        "id": "o1NyWvObI-1o",
        "outputId": "dea0787c-eb8a-4ae0-9ee4-fa9f033d8501"
      },
      "execution_count": null,
      "outputs": [
        {
          "output_type": "stream",
          "name": "stdout",
          "text": [
            "ชื่อ ศศิกานต์ รหัสประจำตัว 6230205399\n"
          ]
        }
      ]
    },
    {
      "cell_type": "code",
      "source": [
        "a = print_name_id('ศศิกานต์','6230205399')"
      ],
      "metadata": {
        "colab": {
          "base_uri": "https://localhost:8080/"
        },
        "id": "4U8itDC7I-wV",
        "outputId": "d6d8a39a-76c2-4a6c-962f-2520036bf9d6"
      },
      "execution_count": null,
      "outputs": [
        {
          "output_type": "stream",
          "name": "stdout",
          "text": [
            "ชื่อ ศศิกานต์ รหัสประจำตัว 6230205399\n"
          ]
        }
      ]
    },
    {
      "cell_type": "code",
      "source": [
        "a"
      ],
      "metadata": {
        "id": "fZVx0RWKO6iX"
      },
      "execution_count": null,
      "outputs": []
    },
    {
      "cell_type": "markdown",
      "source": [
        "ตัวอย่าง function print "
      ],
      "metadata": {
        "id": "d-_w40-ZO8Bh"
      }
    },
    {
      "cell_type": "code",
      "source": [
        "print('ศศิกานต์')\n",
        "print('623020539-9')"
      ],
      "metadata": {
        "colab": {
          "base_uri": "https://localhost:8080/"
        },
        "id": "qyj6H-NSPAaH",
        "outputId": "a22bba88-76be-4e34-c731-eb79a1fe1523"
      },
      "execution_count": null,
      "outputs": [
        {
          "output_type": "stream",
          "name": "stdout",
          "text": [
            "ศศิกานต์\n",
            "623020539-9\n"
          ]
        }
      ]
    },
    {
      "cell_type": "code",
      "source": [
        "print('ศศิกานต์',end='->')\n",
        "print('623020539-9')"
      ],
      "metadata": {
        "colab": {
          "base_uri": "https://localhost:8080/"
        },
        "id": "mZX1ihH4O7eX",
        "outputId": "446aace7-6e7e-49e7-9e19-f7b27be118d1"
      },
      "execution_count": null,
      "outputs": [
        {
          "output_type": "stream",
          "name": "stdout",
          "text": [
            "ศศิกานต์->623020539-9\n"
          ]
        }
      ]
    },
    {
      "cell_type": "code",
      "source": [
        "print('ศศิกานต์','623020539-9')"
      ],
      "metadata": {
        "colab": {
          "base_uri": "https://localhost:8080/"
        },
        "id": "U_80V5uJQB1J",
        "outputId": "be4333cf-6095-46ed-e45d-8b55f1c52da7"
      },
      "execution_count": null,
      "outputs": [
        {
          "output_type": "stream",
          "name": "stdout",
          "text": [
            "ศศิกานต์ 623020539-9\n"
          ]
        }
      ]
    },
    {
      "cell_type": "code",
      "source": [
        "print('ศศิกานต์','623020539-9',sep=' & ')"
      ],
      "metadata": {
        "colab": {
          "base_uri": "https://localhost:8080/"
        },
        "id": "bV8d0EhkQHDy",
        "outputId": "d30b18d8-9428-4a88-ad50-eec52145b850"
      },
      "execution_count": null,
      "outputs": [
        {
          "output_type": "stream",
          "name": "stdout",
          "text": [
            "ศศิกานต์ & 623020539-9\n"
          ]
        }
      ]
    },
    {
      "cell_type": "markdown",
      "source": [
        "### input ของ Function แบ่งเป็น 2 ชนิด (จำเป็นต้องใส่ กับ ไม่จำเป็นต้องใส่)"
      ],
      "metadata": {
        "id": "Dih_EwVAQNLO"
      }
    },
    {
      "cell_type": "markdown",
      "source": [
        "ตัวอย่าง function 'print_grade()' มี input  3 ตัวจำเป็นต้องใส่ 2 ตัวคือ name กับ id และไม่จำเป็นต้องใส่ 1 ตัวคือเกรด ซึ่งมีค่า default เป็น F "
      ],
      "metadata": {
        "id": "aML8-lzrREJn"
      }
    },
    {
      "cell_type": "code",
      "source": [
        "def print_grade(name,id,grade = ' F '):\n",
        "    print(f' รหัสประจำตัว {id} ชื่อ {name}')\n",
        "    print(f'ได้เกรด {grade}')"
      ],
      "metadata": {
        "id": "A4eBMwsuQW3X"
      },
      "execution_count": null,
      "outputs": []
    },
    {
      "cell_type": "code",
      "source": [
        "print_grade('นายสิทธัตกะ จรัสแสง' , '623020541-2','A')"
      ],
      "metadata": {
        "colab": {
          "base_uri": "https://localhost:8080/"
        },
        "id": "wLlvvkYVQctx",
        "outputId": "e2a21b85-7385-446b-c01d-12c44abc9a25"
      },
      "execution_count": null,
      "outputs": [
        {
          "output_type": "stream",
          "name": "stdout",
          "text": [
            " รหัสประจำตัว 623020541-2 ชื่อ นายสิทธัตกะ จรัสแสง\n",
            "ได้เกรด A\n"
          ]
        }
      ]
    },
    {
      "cell_type": "code",
      "source": [
        "print_grade(id='623020541-2',name='นายสิทธัตกะ จรัสแสง',grade='B+')"
      ],
      "metadata": {
        "colab": {
          "base_uri": "https://localhost:8080/"
        },
        "id": "lFEVD_fBSb5P",
        "outputId": "edcf330b-733a-46a7-b574-bd0738cdfbfd"
      },
      "execution_count": null,
      "outputs": [
        {
          "output_type": "stream",
          "name": "stdout",
          "text": [
            " รหัสประจำตัว 623020541-2 ชื่อ นายสิทธัตกะ จรัสแสง\n",
            "ได้เกรด B+\n"
          ]
        }
      ]
    },
    {
      "cell_type": "markdown",
      "source": [
        "# Looping"
      ],
      "metadata": {
        "id": "5KL0PiiQDgzG"
      }
    },
    {
      "cell_type": "code",
      "source": [
        ""
      ],
      "metadata": {
        "id": "W1W1zwlNI-K1"
      },
      "execution_count": null,
      "outputs": []
    },
    {
      "cell_type": "markdown",
      "source": [
        "#Condition Statement(if)"
      ],
      "metadata": {
        "id": "SgkC_e_UDkvY"
      }
    },
    {
      "cell_type": "code",
      "execution_count": null,
      "metadata": {
        "id": "IxMbH7l_DaKk"
      },
      "outputs": [],
      "source": [
        ""
      ]
    }
  ]
}