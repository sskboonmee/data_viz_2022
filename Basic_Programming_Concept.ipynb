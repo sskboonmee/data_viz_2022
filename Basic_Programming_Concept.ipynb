{
  "nbformat": 4,
  "nbformat_minor": 0,
  "metadata": {
    "colab": {
      "name": "Basic_Programming_Concept.ipynb",
      "provenance": [],
      "toc_visible": true,
      "authorship_tag": "ABX9TyOYlSDN+GyZdxBc9wpaNFZj",
      "include_colab_link": true
    },
    "kernelspec": {
      "name": "python3",
      "display_name": "Python 3"
    },
    "language_info": {
      "name": "python"
    }
  },
  "cells": [
    {
      "cell_type": "markdown",
      "metadata": {
        "id": "view-in-github",
        "colab_type": "text"
      },
      "source": [
        "<a href=\"https://colab.research.google.com/github/sskboonmee/data_viz_2022/blob/main/Basic_Programming_Concept.ipynb\" target=\"_parent\"><img src=\"https://colab.research.google.com/assets/colab-badge.svg\" alt=\"Open In Colab\"/></a>"
      ]
    },
    {
      "cell_type": "markdown",
      "source": [
        "# Function ($f(x) = y $ )"
      ],
      "metadata": {
        "id": "8MVzo2hbDpkn"
      }
    },
    {
      "cell_type": "markdown",
      "source": [
        "```python\n",
        "def function_name(input_x):   #def = นิยามฟังก์ชัน\n",
        "    # do something with input_x to get output_y\n",
        "    return output_y\n",
        " ```"
      ],
      "metadata": {
        "id": "TtKxxMeoEJPj"
      }
    },
    {
      "cell_type": "markdown",
      "source": [
        "$f1(x) = x**2 + 75$"
      ],
      "metadata": {
        "id": "Qt25MD4RGE-u"
      }
    },
    {
      "cell_type": "code",
      "source": [
        "def function_f1(x):\n",
        "    a = x**2\n",
        "    y = a + 75\n",
        "    return y\n",
        "\n",
        "print('done!')"
      ],
      "metadata": {
        "colab": {
          "base_uri": "https://localhost:8080/"
        },
        "id": "A4S07GrpD30-",
        "outputId": "46e0b765-8998-48ad-8799-ea9f623b4ebf"
      },
      "execution_count": null,
      "outputs": [
        {
          "output_type": "stream",
          "name": "stdout",
          "text": [
            "done!\n"
          ]
        }
      ]
    },
    {
      "cell_type": "code",
      "source": [
        "function_f1(3)"
      ],
      "metadata": {
        "colab": {
          "base_uri": "https://localhost:8080/"
        },
        "id": "FSilx6ZxD3xe",
        "outputId": "5f105e64-f70e-4541-eeb9-d6b98fdac006"
      },
      "execution_count": null,
      "outputs": [
        {
          "output_type": "execute_result",
          "data": {
            "text/plain": [
              "84"
            ]
          },
          "metadata": {},
          "execution_count": 19
        }
      ]
    },
    {
      "cell_type": "markdown",
      "source": [
        "function มีส่วนสำคัญทั้งหมด 4 ส่วน\n",
        "1. บอก python ว่าเราจะเขียนฟังก์ชัน ชื่ออะไร ```def function_name() : (ขาดไม่ได้)```\n",
        "2. กำหนดตัวแปรที่จะเป็น input ```input``` (ขาดได้)\n",
        "3. ส่วนประมวลผล do_something with Input to get Output (ขาดไม่ได้)\n",
        "4. ส่วน output return Output(ขาดได้)"
      ],
      "metadata": {
        "id": "OttfzKVjHhC-"
      }
    },
    {
      "cell_type": "markdown",
      "source": [
        "##ตัวอย่าง function ที่มีส่วนประกอบครบ"
      ],
      "metadata": {
        "id": "Ng2USk8MISe-"
      }
    },
    {
      "cell_type": "code",
      "source": [
        "def function_f1(x):\n",
        "    a = x**2  #input\n",
        "    y = a + 75\n",
        "    return y"
      ],
      "metadata": {
        "id": "dI2CJNfHD3uH"
      },
      "execution_count": null,
      "outputs": []
    },
    {
      "cell_type": "markdown",
      "source": [
        "##ตัวอย่าง function ที่ไม่มี input"
      ],
      "metadata": {
        "id": "Qi_D4L3JIZaP"
      }
    },
    {
      "cell_type": "code",
      "source": [
        "def pi_v():\n",
        "    y = 3.1459265359\n",
        "    return y\n",
        "    "
      ],
      "metadata": {
        "id": "IK5YfjGpD3YJ"
      },
      "execution_count": null,
      "outputs": []
    },
    {
      "cell_type": "code",
      "source": [
        "piv = pi_v()\n",
        "circle_area_r2 = piv*(2**2)  #process\n",
        "print(circle_area_r2)"
      ],
      "metadata": {
        "colab": {
          "base_uri": "https://localhost:8080/"
        },
        "id": "XIwpoQU9IpIm",
        "outputId": "39d97381-ab45-4108-f63a-f3edfb70e271"
      },
      "execution_count": null,
      "outputs": [
        {
          "output_type": "stream",
          "name": "stdout",
          "text": [
            "12.5837061436\n"
          ]
        }
      ]
    },
    {
      "cell_type": "markdown",
      "source": [
        "##function ไม่มี process ไม่ได้"
      ],
      "metadata": {
        "id": "8TWj4XHUKNqf"
      }
    },
    {
      "cell_type": "code",
      "source": [
        "dew function_a():"
      ],
      "metadata": {
        "id": "-MiMPnHvKT3e",
        "colab": {
          "base_uri": "https://localhost:8080/",
          "height": 132
        },
        "outputId": "f0d1fb35-f538-48c4-9bb9-9a47117d0f7d"
      },
      "execution_count": null,
      "outputs": [
        {
          "output_type": "error",
          "ename": "SyntaxError",
          "evalue": "ignored",
          "traceback": [
            "\u001b[0;36m  File \u001b[0;32m\"<ipython-input-24-7c46f5db047c>\"\u001b[0;36m, line \u001b[0;32m1\u001b[0m\n\u001b[0;31m    dew function_a():\u001b[0m\n\u001b[0m                 ^\u001b[0m\n\u001b[0;31mSyntaxError\u001b[0m\u001b[0;31m:\u001b[0m invalid syntax\n"
          ]
        }
      ]
    },
    {
      "cell_type": "markdown",
      "source": [
        "##ตัวอย่าง function ที่ไม่มี output"
      ],
      "metadata": {
        "id": "EeSSZPnVKXbh"
      }
    },
    {
      "cell_type": "code",
      "source": [
        "def print_name_id(name,id):\n",
        "    print(f'ชื่อ {name} รหัสประจำตัว {id}')"
      ],
      "metadata": {
        "id": "VBiFGXJOI_D_"
      },
      "execution_count": null,
      "outputs": []
    },
    {
      "cell_type": "code",
      "source": [
        "print_name_id('ศศิกานต์','6230205399')"
      ],
      "metadata": {
        "colab": {
          "base_uri": "https://localhost:8080/"
        },
        "id": "o1NyWvObI-1o",
        "outputId": "017d3ebe-bfdb-4c1e-9784-2b32898cba45"
      },
      "execution_count": null,
      "outputs": [
        {
          "output_type": "stream",
          "name": "stdout",
          "text": [
            "ชื่อ ศศิกานต์ รหัสประจำตัว 6230205399\n"
          ]
        }
      ]
    },
    {
      "cell_type": "code",
      "source": [
        "a = print_name_id('ศศิกานต์','6230205399')"
      ],
      "metadata": {
        "colab": {
          "base_uri": "https://localhost:8080/"
        },
        "id": "4U8itDC7I-wV",
        "outputId": "e0bc6c51-d5c5-4bef-abbf-e180f9f4f099"
      },
      "execution_count": null,
      "outputs": [
        {
          "output_type": "stream",
          "name": "stdout",
          "text": [
            "ชื่อ ศศิกานต์ รหัสประจำตัว 6230205399\n"
          ]
        }
      ]
    },
    {
      "cell_type": "code",
      "source": [
        "a"
      ],
      "metadata": {
        "id": "fZVx0RWKO6iX"
      },
      "execution_count": null,
      "outputs": []
    },
    {
      "cell_type": "markdown",
      "source": [
        "ตัวอย่าง function print "
      ],
      "metadata": {
        "id": "d-_w40-ZO8Bh"
      }
    },
    {
      "cell_type": "code",
      "source": [
        "print('ศศิกานต์')\n",
        "print('623020539-9')"
      ],
      "metadata": {
        "colab": {
          "base_uri": "https://localhost:8080/"
        },
        "id": "qyj6H-NSPAaH",
        "outputId": "f8965d68-116c-40bf-eaaa-27e48abe67c8"
      },
      "execution_count": null,
      "outputs": [
        {
          "output_type": "stream",
          "name": "stdout",
          "text": [
            "ศศิกานต์\n",
            "623020539-9\n"
          ]
        }
      ]
    },
    {
      "cell_type": "code",
      "source": [
        "print('ศศิกานต์',end='->')\n",
        "print('623020539-9')"
      ],
      "metadata": {
        "colab": {
          "base_uri": "https://localhost:8080/"
        },
        "id": "mZX1ihH4O7eX",
        "outputId": "55015147-77c6-4ba4-ed60-5cc59ea2b946"
      },
      "execution_count": null,
      "outputs": [
        {
          "output_type": "stream",
          "name": "stdout",
          "text": [
            "ศศิกานต์->623020539-9\n"
          ]
        }
      ]
    },
    {
      "cell_type": "code",
      "source": [
        "print('ศศิกานต์','623020539-9')"
      ],
      "metadata": {
        "colab": {
          "base_uri": "https://localhost:8080/"
        },
        "id": "U_80V5uJQB1J",
        "outputId": "f83512d5-4b29-487b-f9e4-01e03ab27fe6"
      },
      "execution_count": null,
      "outputs": [
        {
          "output_type": "stream",
          "name": "stdout",
          "text": [
            "ศศิกานต์ 623020539-9\n"
          ]
        }
      ]
    },
    {
      "cell_type": "code",
      "source": [
        "print('ศศิกานต์','623020539-9',sep=' & ')"
      ],
      "metadata": {
        "colab": {
          "base_uri": "https://localhost:8080/"
        },
        "id": "bV8d0EhkQHDy",
        "outputId": "f3d0f17e-c275-4bb6-971a-df56bed3b77c"
      },
      "execution_count": null,
      "outputs": [
        {
          "output_type": "stream",
          "name": "stdout",
          "text": [
            "ศศิกานต์ & 623020539-9\n"
          ]
        }
      ]
    },
    {
      "cell_type": "markdown",
      "source": [
        "### input ของ Function แบ่งเป็น 2 ชนิด (จำเป็นต้องใส่ กับ ไม่จำเป็นต้องใส่)"
      ],
      "metadata": {
        "id": "Dih_EwVAQNLO"
      }
    },
    {
      "cell_type": "markdown",
      "source": [
        "ตัวอย่าง function 'print_grade()' มี input  3 ตัวจำเป็นต้องใส่ 2 ตัวคือ name กับ id และไม่จำเป็นต้องใส่ 1 ตัวคือเกรด ซึ่งมีค่า default เป็น F "
      ],
      "metadata": {
        "id": "aML8-lzrREJn"
      }
    },
    {
      "cell_type": "code",
      "source": [
        "def print_grade(name,id,grade = ' F '):\n",
        "    print(f' รหัสประจำตัว {id} ชื่อ {name}')\n",
        "    print(f'ได้เกรด {grade}')"
      ],
      "metadata": {
        "id": "A4eBMwsuQW3X"
      },
      "execution_count": null,
      "outputs": []
    },
    {
      "cell_type": "code",
      "source": [
        "print_grade('นายสิทธัตกะ จรัสแสง' , '623020541-2','A')"
      ],
      "metadata": {
        "colab": {
          "base_uri": "https://localhost:8080/"
        },
        "id": "wLlvvkYVQctx",
        "outputId": "7f0221bf-8633-4a42-d22a-152714a1de07"
      },
      "execution_count": null,
      "outputs": [
        {
          "output_type": "stream",
          "name": "stdout",
          "text": [
            " รหัสประจำตัว 623020541-2 ชื่อ นายสิทธัตกะ จรัสแสง\n",
            "ได้เกรด A\n"
          ]
        }
      ]
    },
    {
      "cell_type": "code",
      "source": [
        "print_grade(id='623020541-2',name='นายสิทธัตกะ จรัสแสง',grade='B+')"
      ],
      "metadata": {
        "colab": {
          "base_uri": "https://localhost:8080/"
        },
        "id": "lFEVD_fBSb5P",
        "outputId": "0f568e9d-9232-4d1e-c5be-782429c89801"
      },
      "execution_count": null,
      "outputs": [
        {
          "output_type": "stream",
          "name": "stdout",
          "text": [
            " รหัสประจำตัว 623020541-2 ชื่อ นายสิทธัตกะ จรัสแสง\n",
            "ได้เกรด B+\n"
          ]
        }
      ]
    },
    {
      "cell_type": "markdown",
      "source": [
        "# Looping"
      ],
      "metadata": {
        "id": "5KL0PiiQDgzG"
      }
    },
    {
      "cell_type": "markdown",
      "source": [
        "```python\n",
        "\n",
        "for member in listEx:\n",
        "    do_something()\n"
      ],
      "metadata": {
        "id": "7RmX30m0Ttmh"
      }
    },
    {
      "cell_type": "code",
      "source": [
        "for member in [1,2,3,4,5,6]:\n",
        "    print(member)"
      ],
      "metadata": {
        "id": "W1W1zwlNI-K1",
        "colab": {
          "base_uri": "https://localhost:8080/"
        },
        "outputId": "5736889a-a84c-4ee1-94f5-4d730f33f16e"
      },
      "execution_count": null,
      "outputs": [
        {
          "output_type": "stream",
          "name": "stdout",
          "text": [
            "1\n",
            "2\n",
            "3\n",
            "4\n",
            "5\n",
            "6\n"
          ]
        }
      ]
    },
    {
      "cell_type": "code",
      "source": [
        "def print_name(name):\n",
        "    print(f'ฉันชื่อ {name}')"
      ],
      "metadata": {
        "id": "UaO7uVYJbe-f"
      },
      "execution_count": null,
      "outputs": []
    },
    {
      "cell_type": "code",
      "source": [
        "for name in ['วัชราภรณ์','จุฑากาญจน์ ','ชลธิชา','ญาดา','กิตติคุณ']:\n",
        "    N = name\n",
        "    print_name(N)"
      ],
      "metadata": {
        "colab": {
          "base_uri": "https://localhost:8080/"
        },
        "id": "N-h9KGcHVHTh",
        "outputId": "14e06f0e-c60b-45ff-ec09-ac12f850e981"
      },
      "execution_count": null,
      "outputs": [
        {
          "output_type": "stream",
          "name": "stdout",
          "text": [
            "ฉันชื่อ วัชราภรณ์\n",
            "ฉันชื่อ จุฑากาญจน์ \n",
            "ฉันชื่อ ชลธิชา\n",
            "ฉันชื่อ ญาดา\n",
            "ฉันชื่อ กิตติคุณ\n"
          ]
        }
      ]
    },
    {
      "cell_type": "code",
      "source": [
        "list_name_id_grade = [['นางสาวเบญญาภา ระภูเขียว','623020527-6','B'],\n",
        "                      ['นางสาวทักษิณา ราชหุ่น','623021000-1','A'],\n",
        "                      ['นางสาวปลายฟ้า คำเพ็ง','623021005-1','C']]"
      ],
      "metadata": {
        "id": "DhpOWUlkbWGO"
      },
      "execution_count": null,
      "outputs": []
    },
    {
      "cell_type": "code",
      "source": [
        "for each in list_name_id_grade:\n",
        "    name = each[0]\n",
        "    id = each[1]\n",
        "    grade = each[2]\n",
        "    print_grade(name,id,grade)\n",
        "    print('----------------')"
      ],
      "metadata": {
        "colab": {
          "base_uri": "https://localhost:8080/"
        },
        "id": "_0baPa8QbYKm",
        "outputId": "ac28df31-ebb4-44b2-8887-0f2170359d3a"
      },
      "execution_count": null,
      "outputs": [
        {
          "output_type": "stream",
          "name": "stdout",
          "text": [
            " รหัสประจำตัว 623020527-6 ชื่อ นางสาวเบญญาภา ระภูเขียว\n",
            "ได้เกรด B\n",
            "----------------\n",
            " รหัสประจำตัว 623021000-1 ชื่อ นางสาวทักษิณา ราชหุ่น\n",
            "ได้เกรด A\n",
            "----------------\n",
            " รหัสประจำตัว 623021005-1 ชื่อ นางสาวปลายฟ้า คำเพ็ง\n",
            "ได้เกรด C\n",
            "----------------\n"
          ]
        }
      ]
    },
    {
      "cell_type": "markdown",
      "source": [
        "##ใช้ for loop เพิ่มสมาชิกใน list"
      ],
      "metadata": {
        "id": "gD-luCKDYiYQ"
      }
    },
    {
      "cell_type": "code",
      "source": [
        "list_name = []\n",
        "list_id = []\n",
        "list_grade = []\n",
        "for each in list_name_id_grade:\n",
        "    list_name.append(each[0])\n",
        "    list_id.append(each[1])\n",
        "    list_grade.append(each[2])"
      ],
      "metadata": {
        "id": "RGTvEWy2YoGw"
      },
      "execution_count": null,
      "outputs": []
    },
    {
      "cell_type": "code",
      "source": [
        "list_name"
      ],
      "metadata": {
        "colab": {
          "base_uri": "https://localhost:8080/"
        },
        "id": "1qGcWtAHZA_f",
        "outputId": "f24e1397-79f7-4443-8a3d-868559240dc4"
      },
      "execution_count": null,
      "outputs": [
        {
          "output_type": "execute_result",
          "data": {
            "text/plain": [
              "['นางสาวเบญญาภา ระภูเขียว', 'นางสาวทักษิณา ราชหุ่น', 'นางสาวปลายฟ้า คำเพ็ง']"
            ]
          },
          "metadata": {},
          "execution_count": 42
        }
      ]
    },
    {
      "cell_type": "markdown",
      "source": [
        "## การวนลูปด้วย range()"
      ],
      "metadata": {
        "id": "ptRWMLmbbwXX"
      }
    },
    {
      "cell_type": "markdown",
      "source": [
        "ฟังก์ชัน range() เป็น built-in ฟังก์ชันใช้สำหรับสร้างออบเจ็คของตัวเลข \n",
        "\n",
        "\n",
        "\n",
        "1.   ตัวเลขเริ่มต้น\n",
        "2.   ตัวเลขสุดท้าย\n",
        "3.   ค่าที่เปลี่ยนแปลงในลำดับของตัวเลข\n",
        "\n",
        "\n"
      ],
      "metadata": {
        "id": "2z7j2vT5KIiY"
      }
    },
    {
      "cell_type": "code",
      "source": [
        "for i in range(100): #rangeวนอ่านค่าออบเจ็คของตัวเลข \n",
        "    print('งง', end = ' ')"
      ],
      "metadata": {
        "colab": {
          "base_uri": "https://localhost:8080/"
        },
        "id": "JfSg92ewb1b-",
        "outputId": "0b5c9678-4e64-4425-d67b-8c5e1a13a663"
      },
      "execution_count": null,
      "outputs": [
        {
          "output_type": "stream",
          "name": "stdout",
          "text": [
            "งง งง งง งง งง งง งง งง งง งง งง งง งง งง งง งง งง งง งง งง งง งง งง งง งง งง งง งง งง งง งง งง งง งง งง งง งง งง งง งง งง งง งง งง งง งง งง งง งง งง งง งง งง งง งง งง งง งง งง งง งง งง งง งง งง งง งง งง งง งง งง งง งง งง งง งง งง งง งง งง งง งง งง งง งง งง งง งง งง งง งง งง งง งง งง งง งง งง งง งง "
          ]
        }
      ]
    },
    {
      "cell_type": "markdown",
      "source": [
        "##Loop ซ้อน Loop "
      ],
      "metadata": {
        "id": "7jVCxCTXcSJg"
      }
    },
    {
      "cell_type": "code",
      "source": [
        "for mem1 in range(2,5):\n",
        "    print(f'now mem1 = {mem1}')\n",
        "    for mem2 in range(1,13): #[1,2,3,4,5,6,7,8,9,10,11,12]\n",
        "        print(f'{mem1} x {mem2} = {mem1*mem2}')\n",
        "    print( f'end inner for mem1 = {mem1} ' )"
      ],
      "metadata": {
        "colab": {
          "base_uri": "https://localhost:8080/"
        },
        "id": "xJZnTrkicPk3",
        "outputId": "987524aa-8cec-49ad-b0e3-b4f20f382c8c"
      },
      "execution_count": null,
      "outputs": [
        {
          "output_type": "stream",
          "name": "stdout",
          "text": [
            "now mem1 = 2\n",
            "2 x 1 = 2\n",
            "2 x 2 = 4\n",
            "2 x 3 = 6\n",
            "2 x 4 = 8\n",
            "2 x 5 = 10\n",
            "2 x 6 = 12\n",
            "2 x 7 = 14\n",
            "2 x 8 = 16\n",
            "2 x 9 = 18\n",
            "2 x 10 = 20\n",
            "2 x 11 = 22\n",
            "2 x 12 = 24\n",
            "end inner for mem1 = 2 \n",
            "now mem1 = 3\n",
            "3 x 1 = 3\n",
            "3 x 2 = 6\n",
            "3 x 3 = 9\n",
            "3 x 4 = 12\n",
            "3 x 5 = 15\n",
            "3 x 6 = 18\n",
            "3 x 7 = 21\n",
            "3 x 8 = 24\n",
            "3 x 9 = 27\n",
            "3 x 10 = 30\n",
            "3 x 11 = 33\n",
            "3 x 12 = 36\n",
            "end inner for mem1 = 3 \n",
            "now mem1 = 4\n",
            "4 x 1 = 4\n",
            "4 x 2 = 8\n",
            "4 x 3 = 12\n",
            "4 x 4 = 16\n",
            "4 x 5 = 20\n",
            "4 x 6 = 24\n",
            "4 x 7 = 28\n",
            "4 x 8 = 32\n",
            "4 x 9 = 36\n",
            "4 x 10 = 40\n",
            "4 x 11 = 44\n",
            "4 x 12 = 48\n",
            "end inner for mem1 = 4 \n"
          ]
        }
      ]
    },
    {
      "cell_type": "markdown",
      "source": [
        "## Loop in function"
      ],
      "metadata": {
        "id": "bMUaK89Pf_nd"
      }
    },
    {
      "cell_type": "code",
      "source": [
        "def print_grade_loop(names,grades):\n",
        "    for n,g in zip(names,grades):  #zip = เอา list 2 อันมาประกบกัน\n",
        "            print(f' {n} ได้เกรด {g}')"
      ],
      "metadata": {
        "id": "arL0KW4ycPGu"
      },
      "execution_count": null,
      "outputs": []
    },
    {
      "cell_type": "code",
      "source": [
        "print_grade_loop(list_name,list_grade)"
      ],
      "metadata": {
        "colab": {
          "base_uri": "https://localhost:8080/"
        },
        "id": "VsdXTCIYcO6n",
        "outputId": "6edcd277-e1ba-4934-a173-386378aa71de"
      },
      "execution_count": null,
      "outputs": [
        {
          "output_type": "stream",
          "name": "stdout",
          "text": [
            " นางสาวเบญญาภา ระภูเขียว ได้เกรด B\n",
            " นางสาวทักษิณา ราชหุ่น ได้เกรด A\n",
            " นางสาวปลายฟ้า คำเพ็ง ได้เกรด C\n"
          ]
        }
      ]
    },
    {
      "cell_type": "markdown",
      "source": [
        "#Condition Statement(if)"
      ],
      "metadata": {
        "id": "SgkC_e_UDkvY"
      }
    },
    {
      "cell_type": "markdown",
      "source": [
        "```python\n",
        "if condition1:\n",
        "    do_something()    ## ถ้า condition1 เป็นจริง ทำ  do_something() \n",
        "elif condition2:\n",
        "    do_another_thing()  ##ถ้า condition1ไม่เป็นจริงแต่  condition2 เป็นจริง ทำ do_another_thing()\n",
        "else:\n",
        "    do_last_thing()  ## ถ้าไม่มี condition ไหนไม่เป็นจริงเลย ทำ  do_last_thing() \n",
        "```"
      ],
      "metadata": {
        "id": "mw5VURJgh_rc"
      }
    },
    {
      "cell_type": "code",
      "execution_count": null,
      "metadata": {
        "id": "IxMbH7l_DaKk",
        "colab": {
          "base_uri": "https://localhost:8080/"
        },
        "outputId": "75031bf3-10b3-4af7-8ca3-21df61dfce85"
      },
      "outputs": [
        {
          "output_type": "stream",
          "name": "stdout",
          "text": [
            "นางสาวเบญญาภา ระภูเขียว ได้เกรด A\n",
            "นางสาวทักษิณา ราชหุ่น ได้เกรด A\n",
            "นางสาวปลายฟ้า คำเพ็ง ได้เกรด F\n"
          ]
        }
      ],
      "source": [
        "for n in list_name:\n",
        "    if len(n)>20:\n",
        "        print(f'{n} ได้เกรด A')\n",
        "    else:\n",
        "        print(f'{n} ได้เกรด F')"
      ]
    },
    {
      "cell_type": "markdown",
      "source": [
        "###operator ที่ใช้ตรวจสอบ condition \n",
        "==,!=,>=,<=,<,>,and,or"
      ],
      "metadata": {
        "id": "P54SWPQvkbBk"
      }
    },
    {
      "cell_type": "markdown",
      "source": [
        "![image.png](data:image/png;base64,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)"
      ],
      "metadata": {
        "id": "3NSi4vG4KvUO"
      }
    },
    {
      "cell_type": "code",
      "source": [
        "a = 10 == 20\n",
        "print(a)"
      ],
      "metadata": {
        "colab": {
          "base_uri": "https://localhost:8080/"
        },
        "id": "JIVCeawIkacu",
        "outputId": "86ca4a2f-4c59-4ddb-b335-31e5008a4a4e"
      },
      "execution_count": null,
      "outputs": [
        {
          "output_type": "stream",
          "name": "stdout",
          "text": [
            "False\n"
          ]
        }
      ]
    },
    {
      "cell_type": "code",
      "source": [
        "b = 15 <=20\n",
        "print(b)"
      ],
      "metadata": {
        "colab": {
          "base_uri": "https://localhost:8080/"
        },
        "id": "QV8V3RZGlJj-",
        "outputId": "97f1dcba-4652-4392-8a7a-2d740dd12eb4"
      },
      "execution_count": null,
      "outputs": [
        {
          "output_type": "stream",
          "name": "stdout",
          "text": [
            "True\n"
          ]
        }
      ]
    },
    {
      "cell_type": "code",
      "source": [
        "if a:\n",
        "    print('x')"
      ],
      "metadata": {
        "id": "amXLOklRlMjl"
      },
      "execution_count": null,
      "outputs": []
    },
    {
      "cell_type": "code",
      "source": [
        "if True:\n",
        "    print('x')"
      ],
      "metadata": {
        "colab": {
          "base_uri": "https://localhost:8080/"
        },
        "id": "EeyqgLaAlP2F",
        "outputId": "8556c04e-719d-4f05-bb5f-46a6fc966123"
      },
      "execution_count": null,
      "outputs": [
        {
          "output_type": "stream",
          "name": "stdout",
          "text": [
            "x\n"
          ]
        }
      ]
    },
    {
      "cell_type": "code",
      "source": [
        "if a and b:\n",
        "    print('x')"
      ],
      "metadata": {
        "id": "_W97M7W_lTvW"
      },
      "execution_count": null,
      "outputs": []
    },
    {
      "cell_type": "code",
      "source": [
        "if a or b:\n",
        "    print('x')"
      ],
      "metadata": {
        "colab": {
          "base_uri": "https://localhost:8080/"
        },
        "id": "vh-aUy7Ilgtc",
        "outputId": "9c6c600a-2afb-49e9-bcfa-dba3cac20252"
      },
      "execution_count": null,
      "outputs": [
        {
          "output_type": "stream",
          "name": "stdout",
          "text": [
            "x\n"
          ]
        }
      ]
    },
    {
      "cell_type": "markdown",
      "source": [
        "# HW\n",
        "\n",
        "เขียน function ตัดเกรด โดยที่ input เป็นคะแนน (0-100) ม output เป็นเกรด (F-A)\n",
        "หรือ ไม่ตัด\n",
        "\n",
        "วนลูปตัดเกรด input = [1,50,65,90,101,-5,49,'ก',80]\n",
        "\n",
        "กำหนด \n",
        "\n",
        "*   ถ้าคะแนนอยู่ระหว่างมากกว่าหรือเท่ากับ 0 แต่น้อยกว่า 50 จะได้เกรด F\n",
        "*   ถ้าคะแนนอยู่ระหว่างมากกว่าหรือเท่ากับ 50 แต่น้อยกว่า 55 จะได้เกรด D\n",
        "*   ถ้าคะแนนอยู่ระหว่างมากกว่าหรือเท่ากับ 55 แต่น้อยกว่า 60 จะได้เกรด D+\n",
        "*   ถ้าคะแนนอยู่ระหว่างมากกว่าหรือเท่ากับ 60 แต่น้อยกว่า 65 จะได้เกรด C\n",
        "*   ถ้าคะแนนอยู่ระหว่างมากกว่าหรือเท่ากับ 65 แต่น้อยกว่า 70 จะได้เกรด C+\n",
        "*   ถ้าคะแนนอยู่ระหว่างมากกว่าหรือเท่ากับ 70 แต่น้อยกว่า 75 จะได้เกรด B\n",
        "*   ถ้าคะแนนอยู่ระหว่างมากกว่าหรือเท่ากับ 75 แต่น้อยกว่า 80 จะได้เกรด B+\n",
        "*   ถ้าคะแนนอยู่ระหว่างมากกว่าหรือเท่ากับ 80 จะได้เกรด A\n",
        "*   ถ้าคะแนนไม่อยู่ในช่วง 0-100 ให้ return 'ไม่สามารถตัดเกรดได้'\n",
        "\n",
        "\n",
        "\n",
        "\n",
        "\n",
        "\n"
      ],
      "metadata": {
        "id": "2zU8pTDEluSU"
      }
    },
    {
      "cell_type": "code",
      "source": [
        "score = [1,50,65,90,101,-5,49,'ก',80]"
      ],
      "metadata": {
        "id": "ZO3NDXlAOJKJ"
      },
      "execution_count": null,
      "outputs": []
    },
    {
      "cell_type": "code",
      "source": [
        "print(score)\n",
        "for i in score:\n",
        "    if type(i) == type(\"\"):\n",
        "        print (f' {i} คะแนน ไม่สามารถตัดเกรดได้')\n",
        "    else:\n",
        "        if i >= 101:\n",
        "            print (f' {i} คะแนน ไม่สามารถตัดเกรดได้')\n",
        "        elif i >= 80:\n",
        "            print (f' {i} คะแนน ได้เกรด  A')\n",
        "        elif i >= 75:\n",
        "            print (f' {i} คะแนน ได้เกรด  B+')\n",
        "        elif i >= 70:\n",
        "            print (f' {i} คะแนน ได้เกรด  B')\n",
        "        elif i >= 65:\n",
        "            print (f' {i} คะแนน ได้เกรด C+')\n",
        "        elif  i >= 60:\n",
        "            print (f' {i} คะแนน ได้เกรด  C')\n",
        "        elif  i >= 55:\n",
        "            print (f' {i} คะแนน ได้เกรด  D+')\n",
        "        elif  i >= 50:\n",
        "            print (f' {i} คะแนน ได้เกรด  D')\n",
        "        elif  i >= 0:\n",
        "            print (f' {i} คะแนน ได้เกรด  F')\n",
        "        else:\n",
        "            print (f' {i} คะแนน ไม่สามารถตัดเกรดได้')"
      ],
      "metadata": {
        "id": "YHtFgNfBOhHh",
        "outputId": "884b1fbf-3fc7-4bda-8500-ee52f704bb7f",
        "colab": {
          "base_uri": "https://localhost:8080/"
        }
      },
      "execution_count": null,
      "outputs": [
        {
          "output_type": "stream",
          "name": "stdout",
          "text": [
            "[1, 50, 65, 90, 101, -5, 49, 'ก', 80]\n",
            " 1 คะแนน ได้เกรด  F\n",
            " 50 คะแนน ได้เกรด  D\n",
            " 65 คะแนน ได้เกรด C+\n",
            " 90 คะแนน ได้เกรด  A\n",
            " 101 คะแนน ไม่สามารถตัดเกรดได้\n",
            " -5 คะแนน ไม่สามารถตัดเกรดได้\n",
            " 49 คะแนน ได้เกรด  F\n",
            " ก คะแนน ไม่สามารถตัดเกรดได้\n",
            " 80 คะแนน ได้เกรด  A\n"
          ]
        }
      ]
    },
    {
      "cell_type": "markdown",
      "source": [
        "###เฉลยการบ้าน"
      ],
      "metadata": {
        "id": "Zg9NDZHK_acD"
      }
    },
    {
      "cell_type": "code",
      "source": [
        "input = [1,50,65,90,101,-5,49,'ก',80]"
      ],
      "metadata": {
        "id": "R781C8oq_dec"
      },
      "execution_count": null,
      "outputs": []
    },
    {
      "cell_type": "code",
      "source": [
        "'ก' is not int() #is = คือ"
      ],
      "metadata": {
        "id": "irhfw9Vt_reb",
        "outputId": "14de1e8e-7889-4f6e-da55-8d71bb6031e8",
        "colab": {
          "base_uri": "https://localhost:8080/"
        }
      },
      "execution_count": null,
      "outputs": [
        {
          "output_type": "execute_result",
          "data": {
            "text/plain": [
              "True"
            ]
          },
          "metadata": {},
          "execution_count": 57
        }
      ]
    },
    {
      "cell_type": "code",
      "source": [
        "type('')"
      ],
      "metadata": {
        "id": "KFErCEwHAAsa",
        "outputId": "cd98f530-4958-4d65-cff1-3dc726517638",
        "colab": {
          "base_uri": "https://localhost:8080/"
        }
      },
      "execution_count": null,
      "outputs": [
        {
          "output_type": "execute_result",
          "data": {
            "text/plain": [
              "str"
            ]
          },
          "metadata": {},
          "execution_count": 58
        }
      ]
    },
    {
      "cell_type": "code",
      "source": [
        "def grading(x):\n",
        "    if type(x) is int:  \n",
        "        if x < 0:\n",
        "            y =f'คะแนน {x} ไม่สามารถตัดเกรดได้'\n",
        "        elif x < 50:\n",
        "            y = f'คะแนน {x} ได้เกรด F'\n",
        "        elif x < 55:\n",
        "            y = f'คะแนน {x} ได้เกรด D'\n",
        "        elif x < 60:\n",
        "            y = f'คะแนน {x} ได้เกรด D+'\n",
        "        elif x < 65:\n",
        "            y = f'คะแนน {x} ได้เกรด C'\n",
        "        elif x < 70:\n",
        "            y = f'คะแนน {x} ได้เกรด C+'\n",
        "        elif x < 75:\n",
        "            y = f'คะแนน {x} ได้เกรด B'\n",
        "        elif x < 80:\n",
        "            y = f'คะแนน {x} ได้เกรด B+'\n",
        "        elif x <= 100:\n",
        "            y = f'คะแนน {x} ได้เกรด A'\n",
        "        else:\n",
        "            y =f'คะแนน {x} ไม่สามารถตัดเกรดได้'\n",
        "    else:\n",
        "        y =f'คะแนน {x} ไม่สามารถตัดเกรดได้'\n",
        "    \n",
        "    return y"
      ],
      "metadata": {
        "id": "X8MUwekRE99B"
      },
      "execution_count": null,
      "outputs": []
    },
    {
      "cell_type": "code",
      "source": [
        "type(1) is int"
      ],
      "metadata": {
        "id": "BaRDA-7HFBjA",
        "outputId": "9dd04076-5e90-4a6c-d6e8-b2c98995402c",
        "colab": {
          "base_uri": "https://localhost:8080/"
        }
      },
      "execution_count": null,
      "outputs": [
        {
          "output_type": "execute_result",
          "data": {
            "text/plain": [
              "True"
            ]
          },
          "metadata": {},
          "execution_count": 60
        }
      ]
    },
    {
      "cell_type": "code",
      "source": [
        "grading(1)"
      ],
      "metadata": {
        "id": "fhl7xVFWFDC3",
        "outputId": "81df60e1-507c-4822-ece2-f7d8cbdfc2d4",
        "colab": {
          "base_uri": "https://localhost:8080/",
          "height": 34
        }
      },
      "execution_count": null,
      "outputs": [
        {
          "output_type": "execute_result",
          "data": {
            "application/vnd.google.colaboratory.intrinsic+json": {
              "type": "string"
            },
            "text/plain": [
              "'คะแนน 1 ได้เกรด F'"
            ]
          },
          "metadata": {},
          "execution_count": 61
        }
      ]
    },
    {
      "cell_type": "code",
      "source": [
        "for i in input:\n",
        "    print(grading(i))"
      ],
      "metadata": {
        "id": "Frh252BwFExM",
        "outputId": "8ae60b4e-ca61-448d-c790-92bfaafcf716",
        "colab": {
          "base_uri": "https://localhost:8080/"
        }
      },
      "execution_count": null,
      "outputs": [
        {
          "output_type": "stream",
          "name": "stdout",
          "text": [
            "คะแนน 1 ได้เกรด F\n",
            "คะแนน 50 ได้เกรด D\n",
            "คะแนน 65 ได้เกรด C+\n",
            "คะแนน 90 ได้เกรด A\n",
            "คะแนน 101 ไม่สามารถตัดเกรดได้\n",
            "คะแนน -5 ไม่สามารถตัดเกรดได้\n",
            "คะแนน 49 ได้เกรด F\n",
            "คะแนน ก ไม่สามารถตัดเกรดได้\n",
            "คะแนน 80 ได้เกรด A\n"
          ]
        }
      ]
    }
  ]
}