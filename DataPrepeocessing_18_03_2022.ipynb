{
  "nbformat": 4,
  "nbformat_minor": 0,
  "metadata": {
    "colab": {
      "name": "DataPrepeocessing-18-03-2022.ipynb",
      "provenance": [],
      "collapsed_sections": [],
      "machine_shape": "hm",
      "include_colab_link": true
    },
    "kernelspec": {
      "name": "python3",
      "display_name": "Python 3"
    },
    "language_info": {
      "name": "python"
    },
    "accelerator": "GPU"
  },
  "cells": [
    {
      "cell_type": "markdown",
      "metadata": {
        "id": "view-in-github",
        "colab_type": "text"
      },
      "source": [
        "<a href=\"https://colab.research.google.com/github/sskboonmee/data_viz_2022/blob/main/DataPrepeocessing_18_03_2022.ipynb\" target=\"_parent\"><img src=\"https://colab.research.google.com/assets/colab-badge.svg\" alt=\"Open In Colab\"/></a>"
      ]
    },
    {
      "cell_type": "code",
      "source": [
        "from google.colab import drive\n",
        "drive.mount('/content/drive')"
      ],
      "metadata": {
        "id": "tySM5CbE1s8C",
        "colab": {
          "base_uri": "https://localhost:8080/",
          "height": 329
        },
        "outputId": "4b626837-e336-4499-ae9a-7b73b22b9473"
      },
      "execution_count": null,
      "outputs": [
        {
          "output_type": "error",
          "ename": "MessageError",
          "evalue": "ignored",
          "traceback": [
            "\u001b[0;31m---------------------------------------------------------------------------\u001b[0m",
            "\u001b[0;31mMessageError\u001b[0m                              Traceback (most recent call last)",
            "\u001b[0;32m<ipython-input-1-d5df0069828e>\u001b[0m in \u001b[0;36m<module>\u001b[0;34m()\u001b[0m\n\u001b[1;32m      1\u001b[0m \u001b[0;32mfrom\u001b[0m \u001b[0mgoogle\u001b[0m\u001b[0;34m.\u001b[0m\u001b[0mcolab\u001b[0m \u001b[0;32mimport\u001b[0m \u001b[0mdrive\u001b[0m\u001b[0;34m\u001b[0m\u001b[0;34m\u001b[0m\u001b[0m\n\u001b[0;32m----> 2\u001b[0;31m \u001b[0mdrive\u001b[0m\u001b[0;34m.\u001b[0m\u001b[0mmount\u001b[0m\u001b[0;34m(\u001b[0m\u001b[0;34m'/content/drive'\u001b[0m\u001b[0;34m)\u001b[0m\u001b[0;34m\u001b[0m\u001b[0;34m\u001b[0m\u001b[0m\n\u001b[0m",
            "\u001b[0;32m/usr/local/lib/python3.7/dist-packages/google/colab/drive.py\u001b[0m in \u001b[0;36mmount\u001b[0;34m(mountpoint, force_remount, timeout_ms, use_metadata_server)\u001b[0m\n\u001b[1;32m    113\u001b[0m       \u001b[0mforce_remount\u001b[0m\u001b[0;34m=\u001b[0m\u001b[0mforce_remount\u001b[0m\u001b[0;34m,\u001b[0m\u001b[0;34m\u001b[0m\u001b[0;34m\u001b[0m\u001b[0m\n\u001b[1;32m    114\u001b[0m       \u001b[0mtimeout_ms\u001b[0m\u001b[0;34m=\u001b[0m\u001b[0mtimeout_ms\u001b[0m\u001b[0;34m,\u001b[0m\u001b[0;34m\u001b[0m\u001b[0;34m\u001b[0m\u001b[0m\n\u001b[0;32m--> 115\u001b[0;31m       ephemeral=True)\n\u001b[0m\u001b[1;32m    116\u001b[0m \u001b[0;34m\u001b[0m\u001b[0m\n\u001b[1;32m    117\u001b[0m \u001b[0;34m\u001b[0m\u001b[0m\n",
            "\u001b[0;32m/usr/local/lib/python3.7/dist-packages/google/colab/drive.py\u001b[0m in \u001b[0;36m_mount\u001b[0;34m(mountpoint, force_remount, timeout_ms, use_metadata_server, ephemeral)\u001b[0m\n\u001b[1;32m    133\u001b[0m   \u001b[0;32mif\u001b[0m \u001b[0mephemeral\u001b[0m\u001b[0;34m:\u001b[0m\u001b[0;34m\u001b[0m\u001b[0;34m\u001b[0m\u001b[0m\n\u001b[1;32m    134\u001b[0m     _message.blocking_request(\n\u001b[0;32m--> 135\u001b[0;31m         'request_auth', request={'authType': 'dfs_ephemeral'}, timeout_sec=None)\n\u001b[0m\u001b[1;32m    136\u001b[0m \u001b[0;34m\u001b[0m\u001b[0m\n\u001b[1;32m    137\u001b[0m   \u001b[0mmountpoint\u001b[0m \u001b[0;34m=\u001b[0m \u001b[0m_os\u001b[0m\u001b[0;34m.\u001b[0m\u001b[0mpath\u001b[0m\u001b[0;34m.\u001b[0m\u001b[0mexpanduser\u001b[0m\u001b[0;34m(\u001b[0m\u001b[0mmountpoint\u001b[0m\u001b[0;34m)\u001b[0m\u001b[0;34m\u001b[0m\u001b[0;34m\u001b[0m\u001b[0m\n",
            "\u001b[0;32m/usr/local/lib/python3.7/dist-packages/google/colab/_message.py\u001b[0m in \u001b[0;36mblocking_request\u001b[0;34m(request_type, request, timeout_sec, parent)\u001b[0m\n\u001b[1;32m    173\u001b[0m   request_id = send_request(\n\u001b[1;32m    174\u001b[0m       request_type, request, parent=parent, expect_reply=True)\n\u001b[0;32m--> 175\u001b[0;31m   \u001b[0;32mreturn\u001b[0m \u001b[0mread_reply_from_input\u001b[0m\u001b[0;34m(\u001b[0m\u001b[0mrequest_id\u001b[0m\u001b[0;34m,\u001b[0m \u001b[0mtimeout_sec\u001b[0m\u001b[0;34m)\u001b[0m\u001b[0;34m\u001b[0m\u001b[0;34m\u001b[0m\u001b[0m\n\u001b[0m",
            "\u001b[0;32m/usr/local/lib/python3.7/dist-packages/google/colab/_message.py\u001b[0m in \u001b[0;36mread_reply_from_input\u001b[0;34m(message_id, timeout_sec)\u001b[0m\n\u001b[1;32m    104\u001b[0m         reply.get('colab_msg_id') == message_id):\n\u001b[1;32m    105\u001b[0m       \u001b[0;32mif\u001b[0m \u001b[0;34m'error'\u001b[0m \u001b[0;32min\u001b[0m \u001b[0mreply\u001b[0m\u001b[0;34m:\u001b[0m\u001b[0;34m\u001b[0m\u001b[0;34m\u001b[0m\u001b[0m\n\u001b[0;32m--> 106\u001b[0;31m         \u001b[0;32mraise\u001b[0m \u001b[0mMessageError\u001b[0m\u001b[0;34m(\u001b[0m\u001b[0mreply\u001b[0m\u001b[0;34m[\u001b[0m\u001b[0;34m'error'\u001b[0m\u001b[0;34m]\u001b[0m\u001b[0;34m)\u001b[0m\u001b[0;34m\u001b[0m\u001b[0;34m\u001b[0m\u001b[0m\n\u001b[0m\u001b[1;32m    107\u001b[0m       \u001b[0;32mreturn\u001b[0m \u001b[0mreply\u001b[0m\u001b[0;34m.\u001b[0m\u001b[0mget\u001b[0m\u001b[0;34m(\u001b[0m\u001b[0;34m'data'\u001b[0m\u001b[0;34m,\u001b[0m \u001b[0;32mNone\u001b[0m\u001b[0;34m)\u001b[0m\u001b[0;34m\u001b[0m\u001b[0;34m\u001b[0m\u001b[0m\n\u001b[1;32m    108\u001b[0m \u001b[0;34m\u001b[0m\u001b[0m\n",
            "\u001b[0;31mMessageError\u001b[0m: Error: credential propagation was unsuccessful"
          ]
        }
      ]
    },
    {
      "cell_type": "code",
      "metadata": {
        "id": "Vd1w_47xfhhe"
      },
      "source": [
        "%cd /content/drive/MyDrive/dataviz_2022/"
      ],
      "execution_count": null,
      "outputs": []
    },
    {
      "cell_type": "code",
      "metadata": {
        "id": "6Ug4tNi-gh7P"
      },
      "source": [
        "#!ls"
      ],
      "execution_count": null,
      "outputs": []
    },
    {
      "cell_type": "code",
      "metadata": {
        "id": "WVIn7JZiglwz"
      },
      "source": [
        "import pandas as pd\n",
        "import numpy as np"
      ],
      "execution_count": null,
      "outputs": []
    },
    {
      "cell_type": "markdown",
      "metadata": {
        "id": "Bhx8d5V9FgjE"
      },
      "source": [
        "# **START CLEAN DATASET**"
      ]
    },
    {
      "cell_type": "markdown",
      "metadata": {
        "id": "ewO1crrPFp6S"
      },
      "source": [
        "## **search_click**"
      ]
    },
    {
      "cell_type": "code",
      "metadata": {
        "id": "_Pklus63wTrV"
      },
      "source": [
        "search = pd.read_csv('search_click.csv')\n",
        "print(search.shape)\n",
        "search.head()"
      ],
      "execution_count": null,
      "outputs": []
    },
    {
      "cell_type": "code",
      "metadata": {
        "id": "cjpShg7ixKRi"
      },
      "source": [
        "search.isnull().any()"
      ],
      "execution_count": null,
      "outputs": []
    },
    {
      "cell_type": "code",
      "metadata": {
        "id": "TT8W0eKvuSOS"
      },
      "source": [
        "search.info()"
      ],
      "execution_count": null,
      "outputs": []
    },
    {
      "cell_type": "markdown",
      "source": [
        "> ### **Check Missing Value**"
      ],
      "metadata": {
        "id": "McCjPcChczOt"
      }
    },
    {
      "cell_type": "code",
      "metadata": {
        "id": "vntfJ-Xa1HfE"
      },
      "source": [
        "## --** ต้องใช้ business_id เป็น Primary Key สำหรับ merged กับตารางหลัก \n",
        "search2 = search.dropna(subset=['business_id']).reset_index(drop=True)   \n",
        "## --** ใช้ search_id ต้องใช้เป็น Foreign Key สำหรับ merged ตารางย่อย \n",
        "search3 = search2.dropna(subset=['search_id']).reset_index(drop=True)\n",
        "##ถ้ามี Missing ก็ทำไม่ได้ จะทำให้ row นั้นมีฟีลด์ที่หายไปด้วย \n",
        "print(f'Shape:{search3.shape}\\n')\n",
        "print('*'*80)\n",
        "print(search3.isnull().any(), '\\n')\n",
        "print('*'*120)\n",
        "search3.head()"
      ],
      "execution_count": null,
      "outputs": []
    },
    {
      "cell_type": "code",
      "source": [
        "###** -- display_position รหัสสถานที่ == 106 #รหัสแต่ละอัน ไม่รู้มีที่ไหนบ้าง  \n",
        "print(f'จำนวน display position :{len(set(search3.display_position))}')"
      ],
      "metadata": {
        "id": "VeDXDWuNhgF8"
      },
      "execution_count": null,
      "outputs": []
    },
    {
      "cell_type": "code",
      "metadata": {
        "id": "hJuJSY_GAKGr"
      },
      "source": [
        "search3['display_position'].value_counts"
      ],
      "execution_count": null,
      "outputs": []
    },
    {
      "cell_type": "code",
      "metadata": {
        "id": "F8610GiF1Hlq"
      },
      "source": [
        "search3.to_csv('search_click_clean.csv', encoding='utf-8')"
      ],
      "execution_count": null,
      "outputs": []
    },
    {
      "cell_type": "markdown",
      "metadata": {
        "id": "P3cs7kXlFxz2"
      },
      "source": [
        "> ### **search_request**"
      ]
    },
    {
      "cell_type": "code",
      "metadata": {
        "id": "h28IrVIdxpUp"
      },
      "source": [
        "## Read .csv\n",
        "search_req = pd.read_csv('search_request.csv')\n",
        "print(search_req.shape,'\\n')\n",
        "print('*'*120)\n",
        "print(search_req.isnull().any())\n",
        "print('*'*200)\n",
        "search_req.head()"
      ],
      "execution_count": null,
      "outputs": []
    },
    {
      "cell_type": "code",
      "source": [
        "len(set(search_req['search_id'].tolist()))"
      ],
      "metadata": {
        "id": "RhQTQXAXx_Xr"
      },
      "execution_count": null,
      "outputs": []
    },
    {
      "cell_type": "code",
      "source": [
        "### Drop lat, long **--## ถ้าไม่มีก็ทำ map ไม่ได้  *- ไม่สามารถ Visulization แต่ละพื้นที่ได้\n",
        "search_req2 = search_req.dropna(subset=['lat', 'long','q']).reset_index(drop=True)\n",
        "print(search_req2.shape)\n",
        "print('*'*120)\n",
        "print(search_req2.isnull().any())"
      ],
      "metadata": {
        "id": "-JOfbrYqmGHI"
      },
      "execution_count": null,
      "outputs": []
    },
    {
      "cell_type": "code",
      "source": [
        "#search_req2['user_id'].tolist()"
      ],
      "metadata": {
        "id": "WF0Xf86amGYo"
      },
      "execution_count": null,
      "outputs": []
    },
    {
      "cell_type": "code",
      "metadata": {
        "id": "wfjE1Pjd9aAG"
      },
      "source": [
        "## Drop Columns ที่จะไม่ใช้ในการ Visulizastion \n",
        "del search_req2['user_id']  ##1.\n",
        "del search_req2['Unnamed: 0']  ##2. \n",
        "print(search_req2.isnull().any())\n",
        "print('*'*120)\n",
        "search_req2.head()  ## จำนวน Row == 402309 "
      ],
      "execution_count": null,
      "outputs": []
    },
    {
      "cell_type": "markdown",
      "source": [
        "> #### Create columns date "
      ],
      "metadata": {
        "id": "1QBE6ivcrlj8"
      }
    },
    {
      "cell_type": "code",
      "metadata": {
        "id": "iWwb2KKVBfSd"
      },
      "source": [
        "date_new = []\n",
        "\n",
        "for i in range(len(search_req2)):\n",
        "    date = search_req2['search_timestamp'][i]\t\n",
        "    date = date[:10]\n",
        "    date_new.append(date)\n",
        "\n",
        "idx = 2  ##**กำหนดแทรกที่ Columns ที่ 2  -- ชื่อ \"search_date\"  \n",
        "search_req2.insert(loc=idx, column='search_date', value=date_new)\n",
        "search_req2.head()"
      ],
      "execution_count": null,
      "outputs": []
    },
    {
      "cell_type": "code",
      "metadata": {
        "id": "-AZVjoIq_dVK"
      },
      "source": [
        "search_req2.isnull().any()"
      ],
      "execution_count": null,
      "outputs": []
    },
    {
      "cell_type": "code",
      "metadata": {
        "id": "Li1XNkOx_QYE"
      },
      "source": [
        "search_req2.to_csv('search_request_clean.csv', encoding='utf-8')"
      ],
      "execution_count": null,
      "outputs": []
    },
    {
      "cell_type": "markdown",
      "metadata": {
        "id": "3a5bRXen0vw0"
      },
      "source": [
        "### **Merge Dataframe** \n",
        "> ***search_request + search_click***\n",
        "\n",
        "\n",
        "- ใช้ search_id เป็น Key เพื่อเชื่อมตาราง"
      ]
    },
    {
      "cell_type": "code",
      "source": [
        "# merged_search3 = pd.merge(search_req2, search3, how=\"outer\", on=[\"search_id\", \"search_id\"])\n",
        "# print(merged_search3.shape)\n",
        "# print('*'*120)\n",
        "# merged_search3.head()"
      ],
      "metadata": {
        "id": "y4G7M7Wxy-mP"
      },
      "execution_count": null,
      "outputs": []
    },
    {
      "cell_type": "code",
      "metadata": {
        "id": "F1mQ6PDi3O0x"
      },
      "source": [
        "# merged_search3 = search3.merge(search_req,how='left',left_on='search_id',right_on='search_id')\n",
        "# merged_search3.head()"
      ],
      "execution_count": null,
      "outputs": []
    },
    {
      "cell_type": "code",
      "source": [
        "merged_search = search_req2.merge(search3, how='inner', on='search_id')\n",
        "print(merged_search.shape, '\\n')\n",
        "print('*'*120)\n",
        "merged_search.head()"
      ],
      "metadata": {
        "id": "fVhjW7je0YOD"
      },
      "execution_count": null,
      "outputs": []
    },
    {
      "cell_type": "code",
      "metadata": {
        "id": "reZmZjxP5iyE"
      },
      "source": [
        "merged_search.isnull().any()"
      ],
      "execution_count": null,
      "outputs": []
    },
    {
      "cell_type": "code",
      "source": [
        "merged_search.to_csv('df_merged_search.csv', encoding='utf-8')"
      ],
      "metadata": {
        "id": "RoJsbeXJ1sTF"
      },
      "execution_count": null,
      "outputs": []
    },
    {
      "cell_type": "markdown",
      "metadata": {
        "id": "OzS5wVYyF2cs"
      },
      "source": [
        "## **w_restaurant**"
      ]
    },
    {
      "cell_type": "code",
      "metadata": {
        "id": "CPAnfNiDEPlF"
      },
      "source": [
        "w_restaurant = pd.read_csv('w_restaurant.csv')\n",
        "print(w_restaurant.shape,'\\n')\n",
        "print('*'*120)\n",
        "print(w_restaurant.isnull().any())\n",
        "print('*'*200)\n",
        "w_restaurant.head()"
      ],
      "execution_count": null,
      "outputs": []
    },
    {
      "cell_type": "markdown",
      "source": [
        "> #### Columns \n",
        "- zipcode\n",
        "- number_of_chains\n",
        "- number_of_bookmarks\n",
        "- parking\n",
        "- credit_card_accepted\n",
        "- bookable\n",
        "- best_of_wongnai\n",
        "- wifi\n",
        "- number_of_seats\n",
        "- music_venue\n",
        "- hotel_restaurant\n",
        "- pet_friendly\n",
        "- delivery\n",
        "\n",
        "-- จัดการ Missing Value  = 'ไม่ระบุ'"
      ],
      "metadata": {
        "id": "n-IEQmb54C8o"
      }
    },
    {
      "cell_type": "markdown",
      "source": [
        "> #### **Print column name with missing values**"
      ],
      "metadata": {
        "id": "9wO0QPDF6e_L"
      }
    },
    {
      "cell_type": "code",
      "source": [
        "col_mis = w_restaurant.columns[w_restaurant.isnull().any()].tolist()\n",
        "print(len(col_mis))\n",
        "col_mis"
      ],
      "metadata": {
        "id": "YO6rWEYo6anB"
      },
      "execution_count": null,
      "outputs": []
    },
    {
      "cell_type": "code",
      "source": [
        "col_mis = ['zipcode',\n",
        " 'number_of_chains',\n",
        " 'number_of_bookmarks',\n",
        " #'price_range',\n",
        " #'avg_price',\n",
        " 'parking',\n",
        " 'credit_card_accepted',\n",
        " 'good_for_groups',\n",
        " 'good_for_kids',\n",
        " 'bookable',\n",
        " 'best_of_wongnai',\n",
        " 'wifi',\n",
        " 'number_of_seats',\n",
        " 'music_venue',\n",
        " 'hotel_restaurant',\n",
        " 'pet_friendly',\n",
        " 'delivery']\n",
        "\n",
        "for c in col_mis:\n",
        "  w_restaurant[c] = w_restaurant[c].fillna('ไม่ระบุ')\n",
        "\n",
        "print('*'*120)\n",
        "print(w_restaurant.isnull().any())"
      ],
      "metadata": {
        "id": "_Y8T2JXF59xZ"
      },
      "execution_count": null,
      "outputs": []
    },
    {
      "cell_type": "markdown",
      "source": [
        "> #### **Columns ที่มี Value เป็น 0, 1** --> เปลี่ยนเป็น  \n",
        "- 0 คือ 'no'\n",
        "- 1 คือ 'yes'"
      ],
      "metadata": {
        "id": "2rfwy8u_-Ma-"
      }
    },
    {
      "cell_type": "code",
      "source": [
        "col_bol = ['credit_card_accepted', 'good_for_groups', 'good_for_kids', 'hotel_restaurant', 'bookable', 'music_venue',\n",
        "            'pet_friendly', 'delivery']\n",
        "print(f'จำนวน Columns :{len(col_bol)}')\n",
        "print('*'* 100)\n",
        "\n",
        "for c in col_bol:\n",
        "    print(w_restaurant[c].value_counts())\n",
        "    print('*'* 100)"
      ],
      "metadata": {
        "id": "NbeDyiZI-sHq"
      },
      "execution_count": null,
      "outputs": []
    },
    {
      "cell_type": "code",
      "source": [
        "## -- 0 == 'no', 1 == 'yes'\n",
        "\n",
        "for c in col_bol:\n",
        "  for i in range(len(w_restaurant)):\n",
        "      if w_restaurant[c][i] == 0:\n",
        "        w_restaurant[c][i] = 'no'\n",
        "      elif w_restaurant[c][i] == 1:\n",
        "          w_restaurant[c][i] = 'yes'\n",
        "    \n",
        "  print(w_restaurant[c].value_counts())\n",
        "  print('*'* 100)"
      ],
      "metadata": {
        "id": "pApMTfXI599v"
      },
      "execution_count": null,
      "outputs": []
    },
    {
      "cell_type": "markdown",
      "source": [
        "> #### **Columns 'parking'**\n",
        "\n",
        "ที่จอดรถ\n",
        "- 0 คือ ไม่มีที่จอดรถ\n",
        "- 1 คือ จอดข้างทาง\n",
        "- 2 คือ valet\n",
        "- 3 คือ มีที่จอดรถ\n",
        "\n"
      ],
      "metadata": {
        "id": "qSspOJD9Av-d"
      }
    },
    {
      "cell_type": "code",
      "source": [
        "dict_st = {0:'ไม่มีที่จอดรถ', 1:'จอดรถข้างทาง', 2:'valet', 3:'มีที่จอดรถ' ,'ไม่ระบุ':'ไม่ระบุ'}\n",
        "\n",
        "for i in range(len(w_restaurant)):\n",
        "    parking = w_restaurant['parking'][i]\n",
        "    w_restaurant['parking'][i] = dict_st[parking]\n",
        "\n",
        "print('*'* 100)\n",
        "print(w_restaurant['parking'].value_counts())  "
      ],
      "metadata": {
        "id": "2pSNXs5BOTWi"
      },
      "execution_count": null,
      "outputs": []
    },
    {
      "cell_type": "markdown",
      "source": [
        "> #### **Columns 'best_of_wongnai'**\n",
        "\n",
        "สถานะ users' choice\n",
        "- 0 คือ ไม่เป็นร้าน users' choice\n",
        "- 2018 คือ เป็นร้าน users' choice ปี 2018\n",
        "\n",
        "\n"
      ],
      "metadata": {
        "id": "lg8WrVVZFLIp"
      }
    },
    {
      "cell_type": "code",
      "source": [
        "for i in range(len(w_restaurant)):\n",
        "    if w_restaurant['best_of_wongnai'][i] == 2018:\n",
        "       w_restaurant['best_of_wongnai'][i] = 'เป็นร้าน users choice ปี 2018'\n",
        "    elif w_restaurant['best_of_wongnai'][i] == 0:\n",
        "         w_restaurant['best_of_wongnai'][i] = 'ไม่เป็นร้าน users choice'\n",
        "\n",
        "print('*'* 100)\n",
        "print(w_restaurant['best_of_wongnai'].value_counts())"
      ],
      "metadata": {
        "id": "9_U6_zJ8FKpX"
      },
      "execution_count": null,
      "outputs": []
    },
    {
      "cell_type": "markdown",
      "source": [
        "> #### **Columns 'wifi'**\n",
        "\n",
        "การให้บริการ Wi-Fi\n",
        "- 0 คือ ไม่มี Wi-Fi บริการ\n",
        "- 1 คือ มี Wi-Fi บริการฟรี\n",
        "- 2 คือ มี Wi-Fi บริการ\n",
        "\n",
        "\n",
        "\n"
      ],
      "metadata": {
        "id": "cKB0eSUzFxTe"
      }
    },
    {
      "cell_type": "code",
      "source": [
        "dict_st = {0:'ไม่มี Wi-Fi บริการ', 1:'Wi-Fi บริการฟรี', 2:'มี Wi-Fi บริการ', 'ไม่ระบุ':'ไม่ระบุ'}\n",
        "\n",
        "for i in range(len(w_restaurant)):\n",
        "    wifi = w_restaurant['wifi'][i]\n",
        "    w_restaurant['wifi'][i] = dict_st[wifi]\n",
        "\n",
        "print('*'* 100)\n",
        "print(w_restaurant['wifi'].value_counts())  "
      ],
      "metadata": {
        "id": "64upqpiGNxen"
      },
      "execution_count": null,
      "outputs": []
    },
    {
      "cell_type": "markdown",
      "source": [
        "> #### **Columns 'number_of_seats'**\n",
        "\n",
        "การให้บริการ Wi-Fi\n",
        "จำนวนที่นั่ง\n",
        "- 0 คือ ไม่มีที่นั่ง/จัดส่งเท่านั้น\n",
        "- 1 คือ ไม่เกิน 10 ที่นั่ง\n",
        "- 2 คือ 11-40 ที่นั่ง\n",
        "- 3 คือ 41-80 ที่นั่ง\n",
        "- 4 คือ 81-150 ที่นั่ง\n",
        "- 5 คือ มากกว่า 150 ที่นั่ง\n",
        "- 11 คือ 1-10 ที่นั่ง\n",
        "- 12 คือ 11-25 ที่นั่ง\n",
        "- 13 คือ 26-50 ที่นั่ง\n",
        "- 14 คือ มากกว่า 50 ที่นั่ง\n",
        "\n",
        "\n",
        "\n",
        "\n"
      ],
      "metadata": {
        "id": "NwjxCthAGKjD"
      }
    },
    {
      "cell_type": "code",
      "source": [
        "dict_st = {0:'ไม่มีที่นั่ง/จัดส่งเท่านั้น', 1:'ไม่เกิน 10 ที่นั่ง', 2:'11-40 ที่นั่ง', 3:'41-80 ที่นั่ง', 4:' 81-150 ที่นั่ง',\n",
        "              5:' มากกว่า 150 ที่นั่ง', 11:'1-10 ที่นั่ง', 12:'11-25 ที่นั่ง', 13:'26-50 ที่นั่ง', 14: 'มากกว่า 50 ที่นั่ง', \n",
        "                'ไม่ระบุ':'ไม่ระบุ'}\n",
        "\n",
        "for i in range(len(w_restaurant)):\n",
        "    #w_restaurant['number_of_seats'][i] = dict_sr[w_restaurant['number_of_seats'][i]]\n",
        "    nofs = w_restaurant['number_of_seats'][i]\n",
        "    w_restaurant['number_of_seats'][i] = dict_st[nofs]\n",
        "\n",
        "print('*'* 100)\n",
        "print(w_restaurant['number_of_seats'].value_counts())  "
      ],
      "metadata": {
        "id": "z1cg4WV_EB-9"
      },
      "execution_count": null,
      "outputs": []
    },
    {
      "cell_type": "markdown",
      "source": [
        "> #### **Columns 'domain_id'**\n",
        "\n",
        "กลุ่มธุรกิจ\n",
        "- 1 คือ ร้านอาหาร\n",
        "- 2 คือ ร้านเสริมสวย\n",
        "- 3 คือ ที่พัก\n",
        "- 4 คือ สถานที่ท่องเที่ยว\n",
        "\n",
        "\n",
        "\n",
        "\n"
      ],
      "metadata": {
        "id": "Y9RRvtelSpW9"
      }
    },
    {
      "cell_type": "code",
      "source": [
        "dict_st = {1:'ร้านอาหาร', 2:'ร้านเสริมสวย', 3:'ที่พัก', 4:'สถานที่ท่องเที่ยว'}\n",
        "\n",
        "for i in range(len(w_restaurant)):\n",
        "    mid = w_restaurant['domain_id'][i]\n",
        "    w_restaurant['domain_id'][i] = dict_st[mid]\n",
        "\n",
        "print('*'* 100)\n",
        "print(w_restaurant['domain_id'].value_counts())  "
      ],
      "metadata": {
        "id": "gP2h76vtPlJR"
      },
      "execution_count": null,
      "outputs": []
    },
    {
      "cell_type": "markdown",
      "source": [
        "> #### **Columns 'closed'**\n",
        "\n",
        "สถานะการให้บริการของธุรกิจ\n",
        "- 0 คือ ร้านเปิดให้บริการอยู่\n",
        "- 1 คือ ร้านปิดให้บริการแล้ว (permanently closed)\n",
        "\n",
        "\n",
        "\n",
        "\n"
      ],
      "metadata": {
        "id": "nsLbgSQeTeNe"
      }
    },
    {
      "cell_type": "code",
      "source": [
        "dict_st = {0:'เปิดให้บริการอยู่', 1:'ปิดให้บริการแล้ว (permanently closed)'}\n",
        "\n",
        "for i in range(len(w_restaurant)):\n",
        "    close = w_restaurant['closed'][i]\n",
        "    w_restaurant['closed'][i] = dict_st[close]\n",
        "\n",
        "print('*'* 100)\n",
        "print(w_restaurant['closed'].value_counts())  "
      ],
      "metadata": {
        "id": "gVjReHJ9PlOG"
      },
      "execution_count": null,
      "outputs": []
    },
    {
      "cell_type": "markdown",
      "source": [
        "> #### **Columns 'new_open'**\n",
        "\n",
        "สถานะเป็นร้านเปิดใหม่\n",
        "- 0 คือ ไม่เป็นร้านเปิดใหม่\n",
        "- 1 คือ เป็นร้านเปิดใหม่\n",
        "\n",
        "\n",
        "\n",
        "\n"
      ],
      "metadata": {
        "id": "YNvFiIFYUTD7"
      }
    },
    {
      "cell_type": "code",
      "source": [
        "dict_st = {0:'ไม่เป็นร้านเปิดใหม่', 1:'เป็นร้านเปิดใหม่'}\n",
        "\n",
        "for i in range(len(w_restaurant)):\n",
        "    new_open = w_restaurant['new_open'][i]\n",
        "    w_restaurant['new_open'][i] = dict_st[new_open]\n",
        "\n",
        "print('*'* 100)\n",
        "print(w_restaurant['new_open'].value_counts())  "
      ],
      "metadata": {
        "id": "HM0ZsewwPlRW"
      },
      "execution_count": null,
      "outputs": []
    },
    {
      "cell_type": "markdown",
      "source": [
        "> #### **Columns 'avg_price'** \n",
        "- ราคาเฉลี่ย (บาท)"
      ],
      "metadata": {
        "id": "ha0_xij1UtUh"
      }
    },
    {
      "cell_type": "code",
      "source": [
        "def groupMeanValue(group):\n",
        "    w_restaurant['avg_price'] = w_restaurant['avg_price'].fillna(w_restaurant['avg_price'].mean())\n",
        "    return group"
      ],
      "metadata": {
        "id": "NsC6vZGUf6yU"
      },
      "execution_count": null,
      "outputs": []
    },
    {
      "cell_type": "code",
      "source": [
        "w_restaurant.groupby(\"city_name\").transform(groupMeanValue).inplace=True"
      ],
      "metadata": {
        "id": "TpRZ76lshBy5"
      },
      "execution_count": null,
      "outputs": []
    },
    {
      "cell_type": "code",
      "source": [
        "print(w_restaurant['avg_price'].isnull().any())"
      ],
      "metadata": {
        "id": "1EfiME2Ygyjn"
      },
      "execution_count": null,
      "outputs": []
    },
    {
      "cell_type": "code",
      "source": [
        "#w_restaurant['avg_price'].tolist()"
      ],
      "metadata": {
        "id": "KzyY5d4KhlSz"
      },
      "execution_count": null,
      "outputs": []
    },
    {
      "cell_type": "code",
      "metadata": {
        "id": "xtydRYzZFOjL"
      },
      "source": [
        "# df_city = w_restaurant[['city_name', 'avg_price']]\n",
        "# df_city0 = df_city.dropna(subset=['avg_price']).reset_index(drop=True)   \n",
        "# print(df_city0.shape)\n",
        "# df_city0.head()"
      ],
      "execution_count": null,
      "outputs": []
    },
    {
      "cell_type": "code",
      "source": [
        "# lst_city = list(set(df_city0['city_name']))\n",
        "# print(len(lst_city))\n",
        "# lst_city"
      ],
      "metadata": {
        "id": "cHXJOA93WqLk"
      },
      "execution_count": null,
      "outputs": []
    },
    {
      "cell_type": "code",
      "source": [
        "# lst_mean = list()\n",
        "# for c in lst_city:\n",
        "#     city_i = df_city0[df_city0['city_name'] == c]\n",
        "#     m_city_i = city_i['avg_price'].mean()\n",
        "#     lst_mean.append(m_city_i)\n",
        "\n",
        "# print(len(lst_mean))\n",
        "# lst_mean"
      ],
      "metadata": {
        "id": "sf_IcIabWxMN"
      },
      "execution_count": null,
      "outputs": []
    },
    {
      "cell_type": "markdown",
      "source": [
        "> #### **Columns 'price_range'** \n",
        "ช่วงราคา\n",
        "- 1 คือ ต่ำกว่า 100 บาท\n",
        "- 2 คือ 101-250 บาท\n",
        "- 3 คือ 251-500 บาท\n",
        "- 4 คือ 501-1000 บาท\n",
        "- 5 คือ มากกว่า 1000 บาท\n"
      ],
      "metadata": {
        "id": "lBULTpnRjpu7"
      }
    },
    {
      "cell_type": "code",
      "source": [
        "def groupMeanValue2(group):\n",
        "    w_restaurant['price_range'] = w_restaurant['price_range'].fillna(w_restaurant['price_range'].median())\n",
        "    return group"
      ],
      "metadata": {
        "id": "1GD2Ze6sqGJb"
      },
      "execution_count": null,
      "outputs": []
    },
    {
      "cell_type": "code",
      "source": [
        "w_restaurant.groupby(\"city_name\").transform(groupMeanValue2).inplace=True"
      ],
      "metadata": {
        "id": "kkVzlR9fqVVH"
      },
      "execution_count": null,
      "outputs": []
    },
    {
      "cell_type": "code",
      "source": [
        "print(w_restaurant['price_range'].isnull().any())"
      ],
      "metadata": {
        "id": "UhArKu2oqcLq"
      },
      "execution_count": null,
      "outputs": []
    },
    {
      "cell_type": "code",
      "source": [
        "print('*'*120)\n",
        "print(w_restaurant.isnull().any())"
      ],
      "metadata": {
        "id": "C6xqIl64mgdS"
      },
      "execution_count": null,
      "outputs": []
    },
    {
      "cell_type": "markdown",
      "source": [
        "### ***search_request + search_click + w_rastaurant***"
      ],
      "metadata": {
        "id": "XxmPpIitrBDJ"
      }
    },
    {
      "cell_type": "code",
      "metadata": {
        "id": "8vXS0t6jSrjb"
      },
      "source": [
        "w_restaurant2 = w_restaurant.reset_index(drop=True)"
      ],
      "execution_count": null,
      "outputs": []
    },
    {
      "cell_type": "code",
      "metadata": {
        "id": "opweZpdBPDun"
      },
      "source": [
        "w_restaurant2.to_csv('w_restaurant_clean.csv', encoding='utf-8')"
      ],
      "execution_count": null,
      "outputs": []
    },
    {
      "cell_type": "markdown",
      "metadata": {
        "id": "E0sKma9b5ztj"
      },
      "source": [
        "### **Merge Dataframe** \n",
        "> ***search_request + (search_click + w_rastaurant)***\n",
        "\n",
        "- ใช้ business_id เป็น Key เพื่อเชื่อมตาราง\n"
      ]
    },
    {
      "cell_type": "code",
      "metadata": {
        "id": "4bC7g1fQHG4Q"
      },
      "source": [
        "merged_wongnai = merged_search.merge(w_restaurant2,how='left',left_on='business_id',right_on='id')\n",
        "print(merged_wongnai.shape, '\\n')\n",
        "print('*'*120)\n",
        "merged_wongnai.head()"
      ],
      "execution_count": null,
      "outputs": []
    },
    {
      "cell_type": "code",
      "metadata": {
        "id": "A9x3L7KJDEBV"
      },
      "source": [
        "merged_wongnai.isnull().any()"
      ],
      "execution_count": null,
      "outputs": []
    },
    {
      "cell_type": "code",
      "metadata": {
        "id": "V1im1cVsJdWJ"
      },
      "source": [
        "merged_wongnai.to_csv('df_wongnai.csv', encoding='utf-8')"
      ],
      "execution_count": null,
      "outputs": []
    },
    {
      "cell_type": "code",
      "metadata": {
        "id": "DlT9F39FU7Kx"
      },
      "source": [
        ""
      ],
      "execution_count": null,
      "outputs": []
    },
    {
      "cell_type": "code",
      "metadata": {
        "id": "v8VQrdVeU7M3"
      },
      "source": [
        ""
      ],
      "execution_count": null,
      "outputs": []
    },
    {
      "cell_type": "code",
      "metadata": {
        "id": "a0VEhYeYU7O1"
      },
      "source": [
        ""
      ],
      "execution_count": null,
      "outputs": []
    }
  ]
}